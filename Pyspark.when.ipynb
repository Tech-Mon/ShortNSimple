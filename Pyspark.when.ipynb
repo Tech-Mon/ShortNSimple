{
 "cells": [
  {
   "cell_type": "code",
   "execution_count": 1,
   "metadata": {},
   "outputs": [],
   "source": [
    "import numpy as np \n",
    "import pandas as pd \n",
    "import pyspark.sql.types as T\n",
    "import pyspark.sql.functions as F\n",
    "from pyspark.sql import SparkSession\n",
    "from pyspark.sql.window import Window"
   ]
  },
  {
   "cell_type": "code",
   "execution_count": 2,
   "metadata": {},
   "outputs": [
    {
     "output_type": "execute_result",
     "data": {
      "text/plain": "<pyspark.sql.session.SparkSession at 0x10198e7a320>",
      "text/html": "\n            <div>\n                <p><b>SparkSession - in-memory</b></p>\n                \n        <div>\n            <p><b>SparkContext</b></p>\n\n            <p><a href=\"http://Done:4041\">Spark UI</a></p>\n\n            <dl>\n              <dt>Version</dt>\n                <dd><code>v2.4.5</code></dd>\n              <dt>Master</dt>\n                <dd><code>local[*]</code></dd>\n              <dt>AppName</dt>\n                <dd><code>ShortNSimple</code></dd>\n            </dl>\n        </div>\n        \n            </div>\n        "
     },
     "metadata": {},
     "execution_count": 2
    }
   ],
   "source": [
    "# initialize spark session\n",
    "spark = SparkSession.builder \\\n",
    "            .master(\"local[*]\") \\\n",
    "            .appName(\"ShortNSimple\") \\\n",
    "            .getOrCreate()\n",
    "spark"
   ]
  },
  {
   "cell_type": "code",
   "execution_count": 3,
   "metadata": {},
   "outputs": [
    {
     "output_type": "stream",
     "name": "stdout",
     "text": "+------------+-----------+------------+-----------+-----------+\n|sepal_length|sepal_width|petal_length|petal_width|class      |\n+------------+-----------+------------+-----------+-----------+\n|5.1         |3.5        |1.4         |0.2        |Iris-setosa|\n|4.9         |3.0        |1.4         |0.2        |Iris-setosa|\n|4.7         |3.2        |1.3         |0.2        |Iris-setosa|\n|4.6         |3.1        |1.5         |0.2        |Iris-setosa|\n|5.0         |3.6        |1.4         |0.2        |Iris-setosa|\n+------------+-----------+------------+-----------+-----------+\nonly showing top 5 rows\n\n"
    }
   ],
   "source": [
    "# read the Iris dataset\n",
    "data = spark.createDataFrame(pd.read_csv(\"datasets/iris.csv\"))\n",
    "data.show(5, truncate=False)"
   ]
  },
  {
   "cell_type": "markdown",
   "metadata": {},
   "source": [
    "**https://pediaa.com/what-is-the-difference-between-sepals-and-petals/**\n",
    "![](https://pediaa.com/wp-content/uploads/2019/05/What-is-the-Difference-Between-Sepals-and-Petals_Figure1.jpg)"
   ]
  },
  {
   "cell_type": "markdown",
   "metadata": {},
   "source": [
    "**Image source - https://www.datacamp.com/community/tutorials/machine-learning-in-r**\n",
    "![Image source - https://www.datacamp.com/community/tutorials/machine-learning-in-r](https://s3.amazonaws.com/assets.datacamp.com/blog_assets/Machine+Learning+R/plot_675020181.png)"
   ]
  },
  {
   "cell_type": "markdown",
   "metadata": {},
   "source": [
    "\n",
    "### Assign Flower type using when conditions"
   ]
  },
  {
   "cell_type": "code",
   "execution_count": 9,
   "metadata": {},
   "outputs": [],
   "source": [
    "data = data.withColumn(\n",
    "    \"predicted_label\",\n",
    "    F.when(\n",
    "        (F.col(\"petal_length\")<=2.0) & (F.col(\"petal_width\")<=0.6),\n",
    "        F.lit(\"Iris-setosa\")\n",
    "    ).when(\n",
    "        (F.col(\"petal_length\")<=5.0) & (F.col(\"petal_width\")<=1.6),\n",
    "        F.lit(\"Iris-versicolor\")\n",
    "    ).otherwise(\n",
    "        F.lit(\"Iris-virginica\")\n",
    "    )\n",
    ")"
   ]
  },
  {
   "cell_type": "code",
   "execution_count": 10,
   "metadata": {},
   "outputs": [
    {
     "output_type": "stream",
     "name": "stdout",
     "text": "+------------+-----------+------------+-----------+---------------+---------------+\n|sepal_length|sepal_width|petal_length|petal_width|class          |predicted_label|\n+------------+-----------+------------+-----------+---------------+---------------+\n|5.1         |3.5        |1.4         |0.2        |Iris-setosa    |Iris-setosa    |\n|4.9         |3.0        |1.4         |0.2        |Iris-setosa    |Iris-setosa    |\n|4.7         |3.2        |1.3         |0.2        |Iris-setosa    |Iris-setosa    |\n|4.6         |3.1        |1.5         |0.2        |Iris-setosa    |Iris-setosa    |\n|5.0         |3.6        |1.4         |0.2        |Iris-setosa    |Iris-setosa    |\n|5.4         |3.9        |1.7         |0.4        |Iris-setosa    |Iris-setosa    |\n|4.6         |3.4        |1.4         |0.3        |Iris-setosa    |Iris-setosa    |\n|5.0         |3.4        |1.5         |0.2        |Iris-setosa    |Iris-setosa    |\n|4.4         |2.9        |1.4         |0.2        |Iris-setosa    |Iris-setosa    |\n|4.9         |3.1        |1.5         |0.1        |Iris-setosa    |Iris-setosa    |\n|5.4         |3.7        |1.5         |0.2        |Iris-setosa    |Iris-setosa    |\n|4.8         |3.4        |1.6         |0.2        |Iris-setosa    |Iris-setosa    |\n|4.8         |3.0        |1.4         |0.1        |Iris-setosa    |Iris-setosa    |\n|4.3         |3.0        |1.1         |0.1        |Iris-setosa    |Iris-setosa    |\n|5.8         |4.0        |1.2         |0.2        |Iris-setosa    |Iris-setosa    |\n|5.7         |4.4        |1.5         |0.4        |Iris-setosa    |Iris-setosa    |\n|5.4         |3.9        |1.3         |0.4        |Iris-setosa    |Iris-setosa    |\n|5.1         |3.5        |1.4         |0.3        |Iris-setosa    |Iris-setosa    |\n|5.7         |3.8        |1.7         |0.3        |Iris-setosa    |Iris-setosa    |\n|5.1         |3.8        |1.5         |0.3        |Iris-setosa    |Iris-setosa    |\n|5.4         |3.4        |1.7         |0.2        |Iris-setosa    |Iris-setosa    |\n|5.1         |3.7        |1.5         |0.4        |Iris-setosa    |Iris-setosa    |\n|4.6         |3.6        |1.0         |0.2        |Iris-setosa    |Iris-setosa    |\n|5.1         |3.3        |1.7         |0.5        |Iris-setosa    |Iris-setosa    |\n|4.8         |3.4        |1.9         |0.2        |Iris-setosa    |Iris-setosa    |\n|5.0         |3.0        |1.6         |0.2        |Iris-setosa    |Iris-setosa    |\n|5.0         |3.4        |1.6         |0.4        |Iris-setosa    |Iris-setosa    |\n|5.2         |3.5        |1.5         |0.2        |Iris-setosa    |Iris-setosa    |\n|5.2         |3.4        |1.4         |0.2        |Iris-setosa    |Iris-setosa    |\n|4.7         |3.2        |1.6         |0.2        |Iris-setosa    |Iris-setosa    |\n|4.8         |3.1        |1.6         |0.2        |Iris-setosa    |Iris-setosa    |\n|5.4         |3.4        |1.5         |0.4        |Iris-setosa    |Iris-setosa    |\n|5.2         |4.1        |1.5         |0.1        |Iris-setosa    |Iris-setosa    |\n|5.5         |4.2        |1.4         |0.2        |Iris-setosa    |Iris-setosa    |\n|4.9         |3.1        |1.5         |0.1        |Iris-setosa    |Iris-setosa    |\n|5.0         |3.2        |1.2         |0.2        |Iris-setosa    |Iris-setosa    |\n|5.5         |3.5        |1.3         |0.2        |Iris-setosa    |Iris-setosa    |\n|4.9         |3.1        |1.5         |0.1        |Iris-setosa    |Iris-setosa    |\n|4.4         |3.0        |1.3         |0.2        |Iris-setosa    |Iris-setosa    |\n|5.1         |3.4        |1.5         |0.2        |Iris-setosa    |Iris-setosa    |\n|5.0         |3.5        |1.3         |0.3        |Iris-setosa    |Iris-setosa    |\n|4.5         |2.3        |1.3         |0.3        |Iris-setosa    |Iris-setosa    |\n|4.4         |3.2        |1.3         |0.2        |Iris-setosa    |Iris-setosa    |\n|5.0         |3.5        |1.6         |0.6        |Iris-setosa    |Iris-setosa    |\n|5.1         |3.8        |1.9         |0.4        |Iris-setosa    |Iris-setosa    |\n|4.8         |3.0        |1.4         |0.3        |Iris-setosa    |Iris-setosa    |\n|5.1         |3.8        |1.6         |0.2        |Iris-setosa    |Iris-setosa    |\n|4.6         |3.2        |1.4         |0.2        |Iris-setosa    |Iris-setosa    |\n|5.3         |3.7        |1.5         |0.2        |Iris-setosa    |Iris-setosa    |\n|5.0         |3.3        |1.4         |0.2        |Iris-setosa    |Iris-setosa    |\n|7.0         |3.2        |4.7         |1.4        |Iris-versicolor|Iris-versicolor|\n|6.4         |3.2        |4.5         |1.5        |Iris-versicolor|Iris-versicolor|\n|6.9         |3.1        |4.9         |1.5        |Iris-versicolor|Iris-versicolor|\n|5.5         |2.3        |4.0         |1.3        |Iris-versicolor|Iris-versicolor|\n|6.5         |2.8        |4.6         |1.5        |Iris-versicolor|Iris-versicolor|\n|5.7         |2.8        |4.5         |1.3        |Iris-versicolor|Iris-versicolor|\n|6.3         |3.3        |4.7         |1.6        |Iris-versicolor|Iris-versicolor|\n|4.9         |2.4        |3.3         |1.0        |Iris-versicolor|Iris-versicolor|\n|6.6         |2.9        |4.6         |1.3        |Iris-versicolor|Iris-versicolor|\n|5.2         |2.7        |3.9         |1.4        |Iris-versicolor|Iris-versicolor|\n|5.0         |2.0        |3.5         |1.0        |Iris-versicolor|Iris-versicolor|\n|5.9         |3.0        |4.2         |1.5        |Iris-versicolor|Iris-versicolor|\n|6.0         |2.2        |4.0         |1.0        |Iris-versicolor|Iris-versicolor|\n|6.1         |2.9        |4.7         |1.4        |Iris-versicolor|Iris-versicolor|\n|5.6         |2.9        |3.6         |1.3        |Iris-versicolor|Iris-versicolor|\n|6.7         |3.1        |4.4         |1.4        |Iris-versicolor|Iris-versicolor|\n|5.6         |3.0        |4.5         |1.5        |Iris-versicolor|Iris-versicolor|\n|5.8         |2.7        |4.1         |1.0        |Iris-versicolor|Iris-versicolor|\n|6.2         |2.2        |4.5         |1.5        |Iris-versicolor|Iris-versicolor|\n|5.6         |2.5        |3.9         |1.1        |Iris-versicolor|Iris-versicolor|\n|5.9         |3.2        |4.8         |1.8        |Iris-versicolor|Iris-virginica |\n|6.1         |2.8        |4.0         |1.3        |Iris-versicolor|Iris-versicolor|\n|6.3         |2.5        |4.9         |1.5        |Iris-versicolor|Iris-versicolor|\n|6.1         |2.8        |4.7         |1.2        |Iris-versicolor|Iris-versicolor|\n|6.4         |2.9        |4.3         |1.3        |Iris-versicolor|Iris-versicolor|\n|6.6         |3.0        |4.4         |1.4        |Iris-versicolor|Iris-versicolor|\n|6.8         |2.8        |4.8         |1.4        |Iris-versicolor|Iris-versicolor|\n|6.7         |3.0        |5.0         |1.7        |Iris-versicolor|Iris-virginica |\n|6.0         |2.9        |4.5         |1.5        |Iris-versicolor|Iris-versicolor|\n|5.7         |2.6        |3.5         |1.0        |Iris-versicolor|Iris-versicolor|\n|5.5         |2.4        |3.8         |1.1        |Iris-versicolor|Iris-versicolor|\n|5.5         |2.4        |3.7         |1.0        |Iris-versicolor|Iris-versicolor|\n|5.8         |2.7        |3.9         |1.2        |Iris-versicolor|Iris-versicolor|\n|6.0         |2.7        |5.1         |1.6        |Iris-versicolor|Iris-virginica |\n|5.4         |3.0        |4.5         |1.5        |Iris-versicolor|Iris-versicolor|\n|6.0         |3.4        |4.5         |1.6        |Iris-versicolor|Iris-versicolor|\n|6.7         |3.1        |4.7         |1.5        |Iris-versicolor|Iris-versicolor|\n|6.3         |2.3        |4.4         |1.3        |Iris-versicolor|Iris-versicolor|\n|5.6         |3.0        |4.1         |1.3        |Iris-versicolor|Iris-versicolor|\n|5.5         |2.5        |4.0         |1.3        |Iris-versicolor|Iris-versicolor|\n|5.5         |2.6        |4.4         |1.2        |Iris-versicolor|Iris-versicolor|\n|6.1         |3.0        |4.6         |1.4        |Iris-versicolor|Iris-versicolor|\n|5.8         |2.6        |4.0         |1.2        |Iris-versicolor|Iris-versicolor|\n|5.0         |2.3        |3.3         |1.0        |Iris-versicolor|Iris-versicolor|\n|5.6         |2.7        |4.2         |1.3        |Iris-versicolor|Iris-versicolor|\n|5.7         |3.0        |4.2         |1.2        |Iris-versicolor|Iris-versicolor|\n|5.7         |2.9        |4.2         |1.3        |Iris-versicolor|Iris-versicolor|\n|6.2         |2.9        |4.3         |1.3        |Iris-versicolor|Iris-versicolor|\n|5.1         |2.5        |3.0         |1.1        |Iris-versicolor|Iris-versicolor|\n|5.7         |2.8        |4.1         |1.3        |Iris-versicolor|Iris-versicolor|\n|6.3         |3.3        |6.0         |2.5        |Iris-virginica |Iris-virginica |\n|5.8         |2.7        |5.1         |1.9        |Iris-virginica |Iris-virginica |\n|7.1         |3.0        |5.9         |2.1        |Iris-virginica |Iris-virginica |\n|6.3         |2.9        |5.6         |1.8        |Iris-virginica |Iris-virginica |\n|6.5         |3.0        |5.8         |2.2        |Iris-virginica |Iris-virginica |\n|7.6         |3.0        |6.6         |2.1        |Iris-virginica |Iris-virginica |\n|4.9         |2.5        |4.5         |1.7        |Iris-virginica |Iris-virginica |\n|7.3         |2.9        |6.3         |1.8        |Iris-virginica |Iris-virginica |\n|6.7         |2.5        |5.8         |1.8        |Iris-virginica |Iris-virginica |\n|7.2         |3.6        |6.1         |2.5        |Iris-virginica |Iris-virginica |\n|6.5         |3.2        |5.1         |2.0        |Iris-virginica |Iris-virginica |\n|6.4         |2.7        |5.3         |1.9        |Iris-virginica |Iris-virginica |\n|6.8         |3.0        |5.5         |2.1        |Iris-virginica |Iris-virginica |\n|5.7         |2.5        |5.0         |2.0        |Iris-virginica |Iris-virginica |\n|5.8         |2.8        |5.1         |2.4        |Iris-virginica |Iris-virginica |\n|6.4         |3.2        |5.3         |2.3        |Iris-virginica |Iris-virginica |\n|6.5         |3.0        |5.5         |1.8        |Iris-virginica |Iris-virginica |\n|7.7         |3.8        |6.7         |2.2        |Iris-virginica |Iris-virginica |\n|7.7         |2.6        |6.9         |2.3        |Iris-virginica |Iris-virginica |\n|6.0         |2.2        |5.0         |1.5        |Iris-virginica |Iris-versicolor|\n|6.9         |3.2        |5.7         |2.3        |Iris-virginica |Iris-virginica |\n|5.6         |2.8        |4.9         |2.0        |Iris-virginica |Iris-virginica |\n|7.7         |2.8        |6.7         |2.0        |Iris-virginica |Iris-virginica |\n|6.3         |2.7        |4.9         |1.8        |Iris-virginica |Iris-virginica |\n|6.7         |3.3        |5.7         |2.1        |Iris-virginica |Iris-virginica |\n|7.2         |3.2        |6.0         |1.8        |Iris-virginica |Iris-virginica |\n|6.2         |2.8        |4.8         |1.8        |Iris-virginica |Iris-virginica |\n|6.1         |3.0        |4.9         |1.8        |Iris-virginica |Iris-virginica |\n|6.4         |2.8        |5.6         |2.1        |Iris-virginica |Iris-virginica |\n|7.2         |3.0        |5.8         |1.6        |Iris-virginica |Iris-virginica |\n|7.4         |2.8        |6.1         |1.9        |Iris-virginica |Iris-virginica |\n|7.9         |3.8        |6.4         |2.0        |Iris-virginica |Iris-virginica |\n|6.4         |2.8        |5.6         |2.2        |Iris-virginica |Iris-virginica |\n|6.3         |2.8        |5.1         |1.5        |Iris-virginica |Iris-virginica |\n|6.1         |2.6        |5.6         |1.4        |Iris-virginica |Iris-virginica |\n|7.7         |3.0        |6.1         |2.3        |Iris-virginica |Iris-virginica |\n|6.3         |3.4        |5.6         |2.4        |Iris-virginica |Iris-virginica |\n|6.4         |3.1        |5.5         |1.8        |Iris-virginica |Iris-virginica |\n|6.0         |3.0        |4.8         |1.8        |Iris-virginica |Iris-virginica |\n|6.9         |3.1        |5.4         |2.1        |Iris-virginica |Iris-virginica |\n|6.7         |3.1        |5.6         |2.4        |Iris-virginica |Iris-virginica |\n|6.9         |3.1        |5.1         |2.3        |Iris-virginica |Iris-virginica |\n|5.8         |2.7        |5.1         |1.9        |Iris-virginica |Iris-virginica |\n|6.8         |3.2        |5.9         |2.3        |Iris-virginica |Iris-virginica |\n|6.7         |3.3        |5.7         |2.5        |Iris-virginica |Iris-virginica |\n|6.7         |3.0        |5.2         |2.3        |Iris-virginica |Iris-virginica |\n|6.3         |2.5        |5.0         |1.9        |Iris-virginica |Iris-virginica |\n|6.5         |3.0        |5.2         |2.0        |Iris-virginica |Iris-virginica |\n|6.2         |3.4        |5.4         |2.3        |Iris-virginica |Iris-virginica |\n|5.9         |3.0        |5.1         |1.8        |Iris-virginica |Iris-virginica |\n+------------+-----------+------------+-----------+---------------+---------------+\n\n"
    }
   ],
   "source": [
    "data.show(150, truncate=False)"
   ]
  }
 ],
 "metadata": {
  "language_info": {
   "codemirror_mode": {
    "name": "ipython",
    "version": 3
   },
   "file_extension": ".py",
   "mimetype": "text/x-python",
   "name": "python",
   "nbconvert_exporter": "python",
   "pygments_lexer": "ipython3",
   "version": "3.6.7-final"
  },
  "orig_nbformat": 2,
  "kernelspec": {
   "name": "python3",
   "display_name": "Python 3"
  }
 },
 "nbformat": 4,
 "nbformat_minor": 2
}
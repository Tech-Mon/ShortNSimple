{
 "cells": [
  {
   "cell_type": "code",
   "execution_count": 1,
   "metadata": {},
   "outputs": [],
   "source": [
    "import numpy as np \n",
    "import pandas as pd \n",
    "import pyspark.sql.types as T\n",
    "import pyspark.sql.functions as F\n",
    "from pyspark.sql import SparkSession\n",
    "from pyspark.sql.window import Window"
   ]
  },
  {
   "cell_type": "code",
   "execution_count": 2,
   "metadata": {},
   "outputs": [
    {
     "output_type": "execute_result",
     "data": {
      "text/plain": "<pyspark.sql.session.SparkSession at 0x1a84b7882b0>",
      "text/html": "\n            <div>\n                <p><b>SparkSession - in-memory</b></p>\n                \n        <div>\n            <p><b>SparkContext</b></p>\n\n            <p><a href=\"http://Done:4040\">Spark UI</a></p>\n\n            <dl>\n              <dt>Version</dt>\n                <dd><code>v2.4.5</code></dd>\n              <dt>Master</dt>\n                <dd><code>local[*]</code></dd>\n              <dt>AppName</dt>\n                <dd><code>ShortNSimple</code></dd>\n            </dl>\n        </div>\n        \n            </div>\n        "
     },
     "metadata": {},
     "execution_count": 2
    }
   ],
   "source": [
    "# initialize spark session\n",
    "spark = SparkSession.builder \\\n",
    "            .master(\"local[*]\") \\\n",
    "            .appName(\"ShortNSimple\") \\\n",
    "            .getOrCreate()\n",
    "spark"
   ]
  },
  {
   "cell_type": "code",
   "execution_count": 3,
   "metadata": {},
   "outputs": [
    {
     "output_type": "stream",
     "name": "stdout",
     "text": "+----+\n|Name|\n+----+\n|A   |\n|B   |\n|B   |\n|C   |\n|C   |\n|C   |\n|D   |\n+----+\n\n"
    }
   ],
   "source": [
    "data = spark.createDataFrame([['A'], ['B'], ['B'], ['C'], ['C'], ['C'], ['D']], ['Name'])\n",
    "data.show(truncate=False)"
   ]
  },
  {
   "cell_type": "markdown",
   "metadata": {},
   "source": [
    "## Row Number"
   ]
  },
  {
   "cell_type": "code",
   "execution_count": 5,
   "metadata": {},
   "outputs": [
    {
     "output_type": "stream",
     "name": "stdout",
     "text": "+----+----------+\n|Name|row_number|\n+----+----------+\n|   D|         1|\n|   C|         2|\n|   C|         3|\n|   C|         4|\n|   B|         5|\n|   B|         6|\n|   A|         7|\n+----+----------+\n\n"
    }
   ],
   "source": [
    "data = data.withColumn(\n",
    "    \"row_number\",\n",
    "    F.row_number().over(Window.partitionBy().orderBy(F.desc(\"Name\")))\n",
    ")\n",
    "\n",
    "data.show()"
   ]
  },
  {
   "cell_type": "markdown",
   "metadata": {},
   "source": [
    "## Rank"
   ]
  },
  {
   "cell_type": "code",
   "execution_count": 7,
   "metadata": {},
   "outputs": [
    {
     "output_type": "stream",
     "name": "stdout",
     "text": "+----+----------+----+\n|Name|row_number|rank|\n+----+----------+----+\n|   D|         1|   1|\n|   C|         2|   2|\n|   C|         3|   2|\n|   C|         4|   2|\n|   B|         5|   5|\n|   B|         6|   5|\n|   A|         7|   7|\n+----+----------+----+\n\n"
    }
   ],
   "source": [
    "data = data.withColumn(\n",
    "    \"rank\",\n",
    "    F.rank().over(Window.orderBy(F.desc(\"Name\")))\n",
    ")\n",
    "\n",
    "data.cache()\n",
    "\n",
    "data.show()"
   ]
  },
  {
   "cell_type": "markdown",
   "metadata": {},
   "source": [
    "## Dense Rank"
   ]
  },
  {
   "cell_type": "code",
   "execution_count": 8,
   "metadata": {},
   "outputs": [
    {
     "output_type": "stream",
     "name": "stdout",
     "text": "+----+----------+----+----------+\n|Name|row_number|rank|dense_rank|\n+----+----------+----+----------+\n|   D|         1|   1|         1|\n|   C|         2|   2|         2|\n|   C|         3|   2|         2|\n|   C|         4|   2|         2|\n|   B|         5|   5|         3|\n|   B|         6|   5|         3|\n|   A|         7|   7|         4|\n+----+----------+----+----------+\n\n"
    }
   ],
   "source": [
    "data = data.withColumn(\n",
    "    \"dense_rank\",\n",
    "    F.dense_rank().over(Window.orderBy(F.desc(\"Name\")))\n",
    ")\n",
    "\n",
    "data.show()"
   ]
  }
 ],
 "metadata": {
  "language_info": {
   "codemirror_mode": {
    "name": "ipython",
    "version": 3
   },
   "file_extension": ".py",
   "mimetype": "text/x-python",
   "name": "python",
   "nbconvert_exporter": "python",
   "pygments_lexer": "ipython3",
   "version": "3.6.7-final"
  },
  "orig_nbformat": 2,
  "kernelspec": {
   "name": "python3",
   "display_name": "Python 3"
  }
 },
 "nbformat": 4,
 "nbformat_minor": 2
}
{
 "cells": [
  {
   "cell_type": "code",
   "execution_count": 1,
   "metadata": {},
   "outputs": [],
   "source": [
    "import numpy as np \n",
    "import pandas as pd \n",
    "import pyspark.sql.types as T\n",
    "import pyspark.sql.functions as F\n",
    "from pyspark.sql import SparkSession\n",
    "from pyspark.sql.window import Window"
   ]
  },
  {
   "cell_type": "code",
   "execution_count": 2,
   "metadata": {},
   "outputs": [
    {
     "output_type": "execute_result",
     "data": {
      "text/plain": [
       "<pyspark.sql.session.SparkSession at 0x7fdcaab1af40>"
      ],
      "text/html": "\n            <div>\n                <p><b>SparkSession - in-memory</b></p>\n                \n        <div>\n            <p><b>SparkContext</b></p>\n\n            <p><a href=\"http://192.168.1.8:4040\">Spark UI</a></p>\n\n            <dl>\n              <dt>Version</dt>\n                <dd><code>v3.0.1</code></dd>\n              <dt>Master</dt>\n                <dd><code>local[*]</code></dd>\n              <dt>AppName</dt>\n                <dd><code>ShortNSimple</code></dd>\n            </dl>\n        </div>\n        \n            </div>\n        "
     },
     "metadata": {},
     "execution_count": 2
    }
   ],
   "source": [
    "# initialize spark session\n",
    "spark = SparkSession.builder \\\n",
    "            .master(\"local[*]\") \\\n",
    "            .appName(\"ShortNSimple\") \\\n",
    "            .getOrCreate()\n",
    "spark"
   ]
  },
  {
   "cell_type": "markdown",
   "metadata": {},
   "source": [
    "Data Source: https://www.kaggle.com/eidanch/counties-geographic-coordinates"
   ]
  },
  {
   "cell_type": "code",
   "execution_count": 3,
   "metadata": {},
   "outputs": [
    {
     "output_type": "execute_result",
     "data": {
      "text/plain": [
       "  country   latitude  longitude              location\n",
       "0      AD  42.546245   1.601554               Andorra\n",
       "1      AE  23.424076  53.847818  United Arab Emirates\n",
       "2      AF  33.939110  67.709953           Afghanistan\n",
       "3      AG  17.060816 -61.796428   Antigua and Barbuda\n",
       "4      AI  18.220554 -63.068615              Anguilla"
      ],
      "text/html": "<div>\n<style scoped>\n    .dataframe tbody tr th:only-of-type {\n        vertical-align: middle;\n    }\n\n    .dataframe tbody tr th {\n        vertical-align: top;\n    }\n\n    .dataframe thead th {\n        text-align: right;\n    }\n</style>\n<table border=\"1\" class=\"dataframe\">\n  <thead>\n    <tr style=\"text-align: right;\">\n      <th></th>\n      <th>country</th>\n      <th>latitude</th>\n      <th>longitude</th>\n      <th>location</th>\n    </tr>\n  </thead>\n  <tbody>\n    <tr>\n      <th>0</th>\n      <td>AD</td>\n      <td>42.546245</td>\n      <td>1.601554</td>\n      <td>Andorra</td>\n    </tr>\n    <tr>\n      <th>1</th>\n      <td>AE</td>\n      <td>23.424076</td>\n      <td>53.847818</td>\n      <td>United Arab Emirates</td>\n    </tr>\n    <tr>\n      <th>2</th>\n      <td>AF</td>\n      <td>33.939110</td>\n      <td>67.709953</td>\n      <td>Afghanistan</td>\n    </tr>\n    <tr>\n      <th>3</th>\n      <td>AG</td>\n      <td>17.060816</td>\n      <td>-61.796428</td>\n      <td>Antigua and Barbuda</td>\n    </tr>\n    <tr>\n      <th>4</th>\n      <td>AI</td>\n      <td>18.220554</td>\n      <td>-63.068615</td>\n      <td>Anguilla</td>\n    </tr>\n  </tbody>\n</table>\n</div>"
     },
     "metadata": {},
     "execution_count": 3
    }
   ],
   "source": [
    "pd.read_csv(\"datasets/countries.csv\").head()"
   ]
  },
  {
   "cell_type": "code",
   "execution_count": 4,
   "metadata": {},
   "outputs": [
    {
     "output_type": "stream",
     "name": "stdout",
     "text": [
      "+-------+---------+------------------+--------------------+\n|country| latitude|         longitude|            location|\n+-------+---------+------------------+--------------------+\n|     AD|42.546245|1.6015540000000001|             Andorra|\n|     AE|23.424076|53.847818000000004|United Arab Emirates|\n+-------+---------+------------------+--------------------+\nonly showing top 2 rows\n\n"
     ]
    }
   ],
   "source": [
    "data = spark.createDataFrame(pd.read_csv(\"datasets/countries.csv\").dropna())\n",
    "data.show(2)"
   ]
  },
  {
   "cell_type": "code",
   "execution_count": 5,
   "metadata": {},
   "outputs": [
    {
     "output_type": "stream",
     "name": "stdout",
     "text": [
      "+-----------+--------------------+\n|county_code|         county_name|\n+-----------+--------------------+\n|         AD|             Andorra|\n|         AE|United Arab Emirates|\n+-----------+--------------------+\nonly showing top 2 rows\n\n"
     ]
    }
   ],
   "source": [
    "countries_name = data.selectExpr(\"country as county_code\", \"location as county_name\").limit(10)\n",
    "countries_name.show(2)"
   ]
  },
  {
   "cell_type": "code",
   "execution_count": 6,
   "metadata": {},
   "outputs": [
    {
     "output_type": "stream",
     "name": "stdout",
     "text": [
      "+-----------+---------+------------------+\n|county_code| latitude|         longitude|\n+-----------+---------+------------------+\n|         AD|42.546245|1.6015540000000001|\n|         AE|23.424076|53.847818000000004|\n+-----------+---------+------------------+\nonly showing top 2 rows\n\n"
     ]
    }
   ],
   "source": [
    "countries_lot_lon = data.selectExpr(\"country as county_code\", \"latitude\", \"longitude\").limit(15)\n",
    "countries_lot_lon = countries_lot_lon.sample(fraction=0.66, withReplacement=False)\n",
    "countries_lot_lon.show(2)"
   ]
  },
  {
   "cell_type": "code",
   "execution_count": 7,
   "metadata": {},
   "outputs": [
    {
     "output_type": "execute_result",
     "data": {
      "text/plain": [
       "11"
      ]
     },
     "metadata": {},
     "execution_count": 7
    }
   ],
   "source": [
    "countries_lot_lon.count()"
   ]
  },
  {
   "cell_type": "markdown",
   "metadata": {},
   "source": [
    "## Apply Join"
   ]
  },
  {
   "cell_type": "code",
   "execution_count": 8,
   "metadata": {},
   "outputs": [
    {
     "output_type": "stream",
     "name": "stdout",
     "text": [
      "+-----------+--------------------+-----------+-------------------+-------------------+\n|county_code|county_name         |county_code|latitude           |longitude          |\n+-----------+--------------------+-----------+-------------------+-------------------+\n|AD         |Andorra             |AD         |42.546245          |1.6015540000000001 |\n|AE         |United Arab Emirates|AE         |23.424076          |53.847818000000004 |\n|AF         |Afghanistan         |null       |null               |null               |\n|AG         |Antigua and Barbuda |AG         |17.060816          |-61.796428000000006|\n|AI         |Anguilla            |AI         |18.220554          |-63.068615         |\n|AL         |Albania             |AL         |41.153332          |20.168331          |\n|AM         |Armenia             |null       |null               |null               |\n|AN         |Netherlands Antilles|null       |null               |null               |\n|AO         |Angola              |AO         |-11.202691999999999|17.873887          |\n|AQ         |Antarctica          |AQ         |-75.250973         |-0.071389          |\n|null       |null                |AR         |-38.416097         |-63.616671999999994|\n|null       |null                |AS         |-14.270972         |-170.132217        |\n|null       |null                |AT         |47.516231          |14.550072          |\n|null       |null                |AU         |-25.274398         |133.775136         |\n+-----------+--------------------+-----------+-------------------+-------------------+\n\n"
     ]
    }
   ],
   "source": [
    "merged_dataset = countries_name.join(\n",
    "    countries_lot_lon,\n",
    "    on=countries_name.county_code == countries_lot_lon.county_code,\n",
    "    how=\"full\"\n",
    ")\n",
    "merged_dataset.show(15, False)"
   ]
  },
  {
   "cell_type": "markdown",
   "metadata": {},
   "source": [
    "## Apply Coalesce"
   ]
  },
  {
   "cell_type": "code",
   "execution_count": 9,
   "metadata": {},
   "outputs": [
    {
     "output_type": "stream",
     "name": "stdout",
     "text": [
      "+-----------+--------------------+-----------+-------------------+-------------------+---------------+\n|county_code|county_name         |county_code|latitude           |longitude          |new_county_code|\n+-----------+--------------------+-----------+-------------------+-------------------+---------------+\n|AD         |Andorra             |AD         |42.546245          |1.6015540000000001 |AD             |\n|AE         |United Arab Emirates|AE         |23.424076          |53.847818000000004 |AE             |\n|AF         |Afghanistan         |null       |null               |null               |AF             |\n|AG         |Antigua and Barbuda |AG         |17.060816          |-61.796428000000006|AG             |\n|AI         |Anguilla            |AI         |18.220554          |-63.068615         |AI             |\n|AL         |Albania             |AL         |41.153332          |20.168331          |AL             |\n|AM         |Armenia             |null       |null               |null               |AM             |\n|AN         |Netherlands Antilles|null       |null               |null               |AN             |\n|AO         |Angola              |AO         |-11.202691999999999|17.873887          |AO             |\n|AQ         |Antarctica          |AQ         |-75.250973         |-0.071389          |AQ             |\n|null       |null                |AR         |-38.416097         |-63.616671999999994|AR             |\n|null       |null                |AS         |-14.270972         |-170.132217        |AS             |\n|null       |null                |AT         |47.516231          |14.550072          |AT             |\n|null       |null                |AU         |-25.274398         |133.775136         |AU             |\n+-----------+--------------------+-----------+-------------------+-------------------+---------------+\n\n"
     ]
    }
   ],
   "source": [
    "merged_dataset = merged_dataset.withColumn(\n",
    "    \"new_county_code\",\n",
    "    F.coalesce(countries_name.county_code, countries_lot_lon.county_code, F.lit(\"Default\"))\n",
    ")\n",
    "\n",
    "merged_dataset.show(15, False)"
   ]
  },
  {
   "cell_type": "markdown",
   "metadata": {},
   "source": [
    "### SQL"
   ]
  },
  {
   "cell_type": "code",
   "execution_count": 10,
   "metadata": {},
   "outputs": [],
   "source": [
    "countries_name.registerTempTable(\"countries_name\")\n",
    "countries_lot_lon.registerTempTable(\"countries_lot_lon\")"
   ]
  },
  {
   "cell_type": "code",
   "execution_count": 11,
   "metadata": {},
   "outputs": [
    {
     "output_type": "stream",
     "name": "stdout",
     "text": [
      "+-------------+-------------+---------------+\n|a_county_code|b_county_code|new_county_code|\n+-------------+-------------+---------------+\n|AD           |AD           |AD             |\n|AE           |AE           |AE             |\n|AF           |null         |AF             |\n|AG           |AG           |AG             |\n|AI           |AI           |AI             |\n|AL           |AL           |AL             |\n|AM           |null         |AM             |\n|AN           |null         |AN             |\n|AO           |AO           |AO             |\n|AQ           |AQ           |AQ             |\n|null         |AR           |AR             |\n|null         |AS           |AS             |\n|null         |AT           |AT             |\n|null         |AU           |AU             |\n+-------------+-------------+---------------+\n\n"
     ]
    }
   ],
   "source": [
    "sql_merged_data = spark.sql(\n",
    "    \"\"\"\n",
    "        SELECT\n",
    "            a.county_code as a_county_code, \n",
    "            b.county_code as b_county_code,\n",
    "            coalesce(a.county_code, b.county_code, \"DEFAULT\") as new_county_code\n",
    "        FROM\n",
    "            countries_name a\n",
    "        FULL JOIN\n",
    "            countries_lot_lon b\n",
    "        ON\n",
    "            a.county_code = b.county_code\n",
    "    \"\"\"\n",
    ")\n",
    "\n",
    "sql_merged_data.show(15, False)"
   ]
  }
 ],
 "metadata": {
  "language_info": {
   "codemirror_mode": {
    "name": "ipython",
    "version": 3
   },
   "file_extension": ".py",
   "mimetype": "text/x-python",
   "name": "python",
   "nbconvert_exporter": "python",
   "pygments_lexer": "ipython3",
   "version": "3.8.3-final"
  },
  "orig_nbformat": 2,
  "kernelspec": {
   "name": "python3",
   "display_name": "Python 3"
  }
 },
 "nbformat": 4,
 "nbformat_minor": 2
}
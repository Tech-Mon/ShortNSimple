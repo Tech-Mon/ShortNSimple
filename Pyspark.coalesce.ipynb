{
 "cells": [
  {
   "cell_type": "code",
   "execution_count": 1,
   "metadata": {},
   "outputs": [],
   "source": [
    "import numpy as np \n",
    "import pandas as pd \n",
    "import pyspark.sql.types as T\n",
    "import pyspark.sql.functions as F\n",
    "from pyspark.sql import SparkSession\n",
    "from pyspark.sql.window import Window"
   ]
  },
  {
   "cell_type": "code",
   "execution_count": 2,
   "metadata": {},
   "outputs": [
    {
     "output_type": "execute_result",
     "data": {
      "text/plain": "<pyspark.sql.session.SparkSession at 0x2544bea8320>",
      "text/html": "\n            <div>\n                <p><b>SparkSession - in-memory</b></p>\n                \n        <div>\n            <p><b>SparkContext</b></p>\n\n            <p><a href=\"http://Done:4040\">Spark UI</a></p>\n\n            <dl>\n              <dt>Version</dt>\n                <dd><code>v2.4.5</code></dd>\n              <dt>Master</dt>\n                <dd><code>local[*]</code></dd>\n              <dt>AppName</dt>\n                <dd><code>ShortNSimple</code></dd>\n            </dl>\n        </div>\n        \n            </div>\n        "
     },
     "metadata": {},
     "execution_count": 2
    }
   ],
   "source": [
    "# initialize spark session\n",
    "spark = SparkSession.builder \\\n",
    "            .master(\"local[*]\") \\\n",
    "            .appName(\"ShortNSimple\") \\\n",
    "            .getOrCreate()\n",
    "spark"
   ]
  },
  {
   "cell_type": "markdown",
   "metadata": {},
   "source": [
    "Data Source: https://www.kaggle.com/eidanch/counties-geographic-coordinates"
   ]
  },
  {
   "cell_type": "code",
   "execution_count": 3,
   "metadata": {},
   "outputs": [
    {
     "output_type": "execute_result",
     "data": {
      "text/plain": "  country   latitude  longitude              location\n0      AD  42.546245   1.601554               Andorra\n1      AE  23.424076  53.847818  United Arab Emirates\n2      AF  33.939110  67.709953           Afghanistan\n3      AG  17.060816 -61.796428   Antigua and Barbuda\n4      AI  18.220554 -63.068615              Anguilla",
      "text/html": "<div>\n<style scoped>\n    .dataframe tbody tr th:only-of-type {\n        vertical-align: middle;\n    }\n\n    .dataframe tbody tr th {\n        vertical-align: top;\n    }\n\n    .dataframe thead th {\n        text-align: right;\n    }\n</style>\n<table border=\"1\" class=\"dataframe\">\n  <thead>\n    <tr style=\"text-align: right;\">\n      <th></th>\n      <th>country</th>\n      <th>latitude</th>\n      <th>longitude</th>\n      <th>location</th>\n    </tr>\n  </thead>\n  <tbody>\n    <tr>\n      <th>0</th>\n      <td>AD</td>\n      <td>42.546245</td>\n      <td>1.601554</td>\n      <td>Andorra</td>\n    </tr>\n    <tr>\n      <th>1</th>\n      <td>AE</td>\n      <td>23.424076</td>\n      <td>53.847818</td>\n      <td>United Arab Emirates</td>\n    </tr>\n    <tr>\n      <th>2</th>\n      <td>AF</td>\n      <td>33.939110</td>\n      <td>67.709953</td>\n      <td>Afghanistan</td>\n    </tr>\n    <tr>\n      <th>3</th>\n      <td>AG</td>\n      <td>17.060816</td>\n      <td>-61.796428</td>\n      <td>Antigua and Barbuda</td>\n    </tr>\n    <tr>\n      <th>4</th>\n      <td>AI</td>\n      <td>18.220554</td>\n      <td>-63.068615</td>\n      <td>Anguilla</td>\n    </tr>\n  </tbody>\n</table>\n</div>"
     },
     "metadata": {},
     "execution_count": 3
    }
   ],
   "source": [
    "pd.read_csv(\"datasets/countries.csv\").head()"
   ]
  },
  {
   "cell_type": "code",
   "execution_count": 4,
   "metadata": {},
   "outputs": [
    {
     "output_type": "stream",
     "name": "stdout",
     "text": "+-------+---------+------------------+--------------------+\n|country| latitude|         longitude|            location|\n+-------+---------+------------------+--------------------+\n|     AD|42.546245|1.6015540000000001|             Andorra|\n|     AE|23.424076|53.847818000000004|United Arab Emirates|\n+-------+---------+------------------+--------------------+\nonly showing top 2 rows\n\n"
    }
   ],
   "source": [
    "data = spark.createDataFrame(pd.read_csv(\"datasets/countries.csv\").dropna())\n",
    "data.show(2)"
   ]
  },
  {
   "cell_type": "code",
   "execution_count": 5,
   "metadata": {},
   "outputs": [
    {
     "output_type": "stream",
     "name": "stdout",
     "text": "+-----------+--------------------+\n|county_code|         county_name|\n+-----------+--------------------+\n|         AD|             Andorra|\n|         AE|United Arab Emirates|\n+-----------+--------------------+\nonly showing top 2 rows\n\n"
    }
   ],
   "source": [
    "countries_name = data.selectExpr(\"country as county_code\", \"location as county_name\").limit(10)\n",
    "countries_name.show(2)"
   ]
  },
  {
   "cell_type": "code",
   "execution_count": 8,
   "metadata": {},
   "outputs": [
    {
     "output_type": "stream",
     "name": "stdout",
     "text": "+-----------+---------+------------------+\n|county_code| latitude|         longitude|\n+-----------+---------+------------------+\n|         AD|42.546245|1.6015540000000001|\n|         AE|23.424076|53.847818000000004|\n+-----------+---------+------------------+\nonly showing top 2 rows\n\n"
    }
   ],
   "source": [
    "countries_lot_lon = data.selectExpr(\"country as county_code\", \"latitude\", \"longitude\").limit(15)\n",
    "countries_lot_lon = countries_lot_lon.sample(fraction=0.66, withReplacement=False)\n",
    "countries_lot_lon.show(2)"
   ]
  },
  {
   "cell_type": "code",
   "execution_count": 9,
   "metadata": {},
   "outputs": [
    {
     "output_type": "execute_result",
     "data": {
      "text/plain": "13"
     },
     "metadata": {},
     "execution_count": 9
    }
   ],
   "source": [
    "countries_lot_lon.count()"
   ]
  },
  {
   "cell_type": "markdown",
   "metadata": {},
   "source": [
    "## Apply Join"
   ]
  },
  {
   "cell_type": "code",
   "execution_count": 12,
   "metadata": {},
   "outputs": [
    {
     "output_type": "stream",
     "name": "stdout",
     "text": "+-----------+--------------------+-----------+-------------------+-------------------+\n|county_code|county_name         |county_code|latitude           |longitude          |\n+-----------+--------------------+-----------+-------------------+-------------------+\n|AD         |Andorra             |AD         |42.546245          |1.6015540000000001 |\n|AE         |United Arab Emirates|AE         |23.424076          |53.847818000000004 |\n|AF         |Afghanistan         |null       |null               |null               |\n|AG         |Antigua and Barbuda |null       |null               |null               |\n|AI         |Anguilla            |AI         |18.220554          |-63.068615         |\n|AL         |Albania             |AL         |41.153332          |20.168331          |\n|AM         |Armenia             |AM         |40.069099          |45.038189          |\n|AN         |Netherlands Antilles|AN         |12.226078999999999 |-69.060087         |\n|AO         |Angola              |AO         |-11.202691999999999|17.873887          |\n|AQ         |Antarctica          |AQ         |-75.250973         |-0.071389          |\n|null       |null                |AR         |-38.416097         |-63.616671999999994|\n|null       |null                |AS         |-14.270972         |-170.132217        |\n|null       |null                |AT         |47.516231          |14.550072          |\n|null       |null                |AU         |-25.274398         |133.775136         |\n|null       |null                |AW         |12.52111           |-69.968338         |\n+-----------+--------------------+-----------+-------------------+-------------------+\n\n"
    }
   ],
   "source": [
    "merged_dataset = countries_name.join(\n",
    "    countries_lot_lon,\n",
    "    on=countries_name.county_code == countries_lot_lon.county_code,\n",
    "    how=\"full\"\n",
    ")\n",
    "merged_dataset.show(15, False)"
   ]
  },
  {
   "cell_type": "markdown",
   "metadata": {},
   "source": [
    "## Apply Coalesce"
   ]
  },
  {
   "cell_type": "code",
   "execution_count": 18,
   "metadata": {},
   "outputs": [
    {
     "output_type": "stream",
     "name": "stdout",
     "text": "+-----------+--------------------+-----------+-------------------+-------------------+---------------+\n|county_code|county_name         |county_code|latitude           |longitude          |new_county_code|\n+-----------+--------------------+-----------+-------------------+-------------------+---------------+\n|AD         |Andorra             |AD         |42.546245          |1.6015540000000001 |Default        |\n|AE         |United Arab Emirates|AE         |23.424076          |53.847818000000004 |Default        |\n|AF         |Afghanistan         |null       |null               |null               |Default        |\n|AG         |Antigua and Barbuda |null       |null               |null               |Default        |\n|AI         |Anguilla            |AI         |18.220554          |-63.068615         |Default        |\n|AL         |Albania             |AL         |41.153332          |20.168331          |Default        |\n|AM         |Armenia             |AM         |40.069099          |45.038189          |Default        |\n|AN         |Netherlands Antilles|AN         |12.226078999999999 |-69.060087         |Default        |\n|AO         |Angola              |AO         |-11.202691999999999|17.873887          |Default        |\n|AQ         |Antarctica          |AQ         |-75.250973         |-0.071389          |Default        |\n|null       |null                |AR         |-38.416097         |-63.616671999999994|Default        |\n|null       |null                |AS         |-14.270972         |-170.132217        |Default        |\n|null       |null                |AT         |47.516231          |14.550072          |Default        |\n|null       |null                |AU         |-25.274398         |133.775136         |Default        |\n|null       |null                |AW         |12.52111           |-69.968338         |Default        |\n+-----------+--------------------+-----------+-------------------+-------------------+---------------+\n\n"
    }
   ],
   "source": [
    "merged_dataset = merged_dataset.withColumn(\n",
    "    \"new_county_code\",\n",
    "    F.coalesce(countries_name.county_code, countries_lot_lon.county_code, F.lit(\"Default\"))\n",
    ")\n",
    "\n",
    "merged_dataset.show(15, False)"
   ]
  },
  {
   "cell_type": "markdown",
   "metadata": {},
   "source": [
    "### SQL"
   ]
  },
  {
   "cell_type": "code",
   "execution_count": 14,
   "metadata": {},
   "outputs": [],
   "source": [
    "countries_name.registerTempTable(\"countries_name\")\n",
    "countries_lot_lon.registerTempTable(\"countries_lot_lon\")"
   ]
  },
  {
   "cell_type": "code",
   "execution_count": 17,
   "metadata": {},
   "outputs": [
    {
     "output_type": "stream",
     "name": "stdout",
     "text": "+-------------+-------------+---------------+\n|a_county_code|b_county_code|new_county_code|\n+-------------+-------------+---------------+\n|AD           |AD           |SOMENAME       |\n|AE           |AE           |SOMENAME       |\n|AF           |null         |SOMENAME       |\n|AG           |null         |SOMENAME       |\n|AI           |AI           |SOMENAME       |\n|AL           |AL           |SOMENAME       |\n|AM           |AM           |SOMENAME       |\n|AN           |AN           |SOMENAME       |\n|AO           |AO           |SOMENAME       |\n|AQ           |AQ           |SOMENAME       |\n|null         |AR           |SOMENAME       |\n|null         |AS           |SOMENAME       |\n|null         |AT           |SOMENAME       |\n|null         |AU           |SOMENAME       |\n|null         |AW           |SOMENAME       |\n+-------------+-------------+---------------+\n\n"
    }
   ],
   "source": [
    "sql_merged_data = spark.sql(\n",
    "    \"\"\"\n",
    "        SELECT\n",
    "            a.county_code as a_county_code, \n",
    "            b.county_code as b_county_code,\n",
    "            coalesce(a.county_code, b.county_code, \"DEFAULT\") as new_county_code\n",
    "        FROM\n",
    "            countries_name a\n",
    "        FULL JOIN\n",
    "            countries_lot_lon b\n",
    "        ON\n",
    "            a.county_code = b.county_code\n",
    "    \"\"\"\n",
    ")\n",
    "\n",
    "sql_merged_data.show(15, False)"
   ]
  }
 ],
 "metadata": {
  "language_info": {
   "codemirror_mode": {
    "name": "ipython",
    "version": 3
   },
   "file_extension": ".py",
   "mimetype": "text/x-python",
   "name": "python",
   "nbconvert_exporter": "python",
   "pygments_lexer": "ipython3",
   "version": "3.6.7-final"
  },
  "orig_nbformat": 2,
  "kernelspec": {
   "name": "python3",
   "display_name": "Python 3"
  }
 },
 "nbformat": 4,
 "nbformat_minor": 2
}
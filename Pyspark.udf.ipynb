{
 "cells": [
  {
   "cell_type": "markdown",
   "metadata": {},
   "source": [
    "# Creating and using UDFs in Pyspark"
   ]
  },
  {
   "cell_type": "code",
   "execution_count": 1,
   "metadata": {},
   "outputs": [],
   "source": [
    "import numpy as np\n",
    "import pandas as pd \n",
    "import pyspark.sql.types as T\n",
    "import pyspark.sql.functions as F\n",
    "from pyspark.sql import SparkSession\n",
    "from pyspark.sql.window import Window"
   ]
  },
  {
   "cell_type": "code",
   "execution_count": 11,
   "metadata": {},
   "outputs": [],
   "source": [
    "from pyspark.sql import SQLContext"
   ]
  },
  {
   "cell_type": "code",
   "execution_count": 2,
   "metadata": {},
   "outputs": [
    {
     "output_type": "execute_result",
     "data": {
      "text/plain": "<pyspark.sql.session.SparkSession at 0x281576c83c8>",
      "text/html": "\n            <div>\n                <p><b>SparkSession - in-memory</b></p>\n                \n        <div>\n            <p><b>SparkContext</b></p>\n\n            <p><a href=\"http://Done:4040\">Spark UI</a></p>\n\n            <dl>\n              <dt>Version</dt>\n                <dd><code>v2.4.5</code></dd>\n              <dt>Master</dt>\n                <dd><code>local[*]</code></dd>\n              <dt>AppName</dt>\n                <dd><code>ShortNSimple</code></dd>\n            </dl>\n        </div>\n        \n            </div>\n        "
     },
     "metadata": {},
     "execution_count": 2
    }
   ],
   "source": [
    "# initialize spark session\n",
    "spark = SparkSession.builder \\\n",
    "            .master(\"local[*]\") \\\n",
    "            .appName(\"ShortNSimple\") \\\n",
    "            .getOrCreate()\n",
    "spark"
   ]
  },
  {
   "cell_type": "code",
   "execution_count": 12,
   "metadata": {},
   "outputs": [],
   "source": [
    "sqlContext = SQLContext(spark.sparkContext)"
   ]
  },
  {
   "cell_type": "code",
   "execution_count": 3,
   "metadata": {},
   "outputs": [
    {
     "output_type": "stream",
     "name": "stdout",
     "text": "+------------+-----------+------------+-----------+-----------+\n|sepal_length|sepal_width|petal_length|petal_width|class      |\n+------------+-----------+------------+-----------+-----------+\n|5.1         |3.5        |1.4         |0.2        |Iris-setosa|\n|4.9         |3.0        |1.4         |0.2        |Iris-setosa|\n|4.7         |3.2        |1.3         |0.2        |Iris-setosa|\n|4.6         |3.1        |1.5         |0.2        |Iris-setosa|\n|5.0         |3.6        |1.4         |0.2        |Iris-setosa|\n+------------+-----------+------------+-----------+-----------+\nonly showing top 5 rows\n\n"
    }
   ],
   "source": [
    "data = spark.createDataFrame(pd.read_csv(\"./datasets/iris.csv\"))\n",
    "data.show(5, False)"
   ]
  },
  {
   "cell_type": "code",
   "execution_count": 4,
   "metadata": {},
   "outputs": [
    {
     "output_type": "execute_result",
     "data": {
      "text/plain": "150"
     },
     "metadata": {},
     "execution_count": 4
    }
   ],
   "source": [
    "data.count()"
   ]
  },
  {
   "cell_type": "code",
   "execution_count": 5,
   "metadata": {},
   "outputs": [
    {
     "output_type": "stream",
     "name": "stdout",
     "text": "+---------------+\n|class          |\n+---------------+\n|Iris-virginica |\n|Iris-setosa    |\n|Iris-versicolor|\n+---------------+\n\n"
    }
   ],
   "source": [
    "data.select(\"class\").distinct().show(10, False)"
   ]
  },
  {
   "cell_type": "code",
   "execution_count": null,
   "metadata": {},
   "outputs": [],
   "source": [
    "Iris-setosa  Iris-virginica \n",
    "1               0              \n",
    "0               1               \n",
    "0               0              "
   ]
  },
  {
   "cell_type": "code",
   "execution_count": null,
   "metadata": {},
   "outputs": [],
   "source": [
    "N => N-1"
   ]
  },
  {
   "cell_type": "markdown",
   "metadata": {},
   "source": [
    "# One-hot encoding using UDF"
   ]
  },
  {
   "cell_type": "code",
   "execution_count": 6,
   "metadata": {},
   "outputs": [
    {
     "output_type": "stream",
     "name": "stdout",
     "text": "[1, 0]\n[0, 1]\n[0, 0]\n"
    }
   ],
   "source": [
    "def one_hot_encode(class_label):\n",
    "    temp_code = [0, 0]\n",
    "    if class_label.lower() == 'iris-setosa':\n",
    "        temp_code[0] = 1\n",
    "    elif class_label.lower() == 'iris-virginica':\n",
    "        temp_code[1] = 1\n",
    "    return temp_code\n",
    "\n",
    "print(one_hot_encode(\"Iris-setosa\"))\n",
    "print(one_hot_encode(\"Iris-virginica\"))\n",
    "print(one_hot_encode(\"Iris-versicolor\"))"
   ]
  },
  {
   "cell_type": "code",
   "execution_count": 7,
   "metadata": {},
   "outputs": [
    {
     "output_type": "execute_result",
     "data": {
      "text/plain": "list"
     },
     "metadata": {},
     "execution_count": 7
    }
   ],
   "source": [
    "type(one_hot_encode(\"Iris-setosa\"))"
   ]
  },
  {
   "cell_type": "code",
   "execution_count": 8,
   "metadata": {},
   "outputs": [
    {
     "output_type": "execute_result",
     "data": {
      "text/plain": "int"
     },
     "metadata": {},
     "execution_count": 8
    }
   ],
   "source": [
    "type(one_hot_encode(\"Iris-setosa\")[0])"
   ]
  },
  {
   "cell_type": "code",
   "execution_count": 9,
   "metadata": {},
   "outputs": [],
   "source": [
    "# pyspark - udf function\n",
    "one_hot_encode_udf = F.udf(one_hot_encode, T.ArrayType(T.IntegerType()))"
   ]
  },
  {
   "cell_type": "code",
   "execution_count": 10,
   "metadata": {},
   "outputs": [
    {
     "output_type": "stream",
     "name": "stdout",
     "text": "+------------+-----------+------------+-----------+---------------+--------------+\n|sepal_length|sepal_width|petal_length|petal_width|class          |one_hot_values|\n+------------+-----------+------------+-----------+---------------+--------------+\n|5.1         |3.5        |1.4         |0.2        |Iris-setosa    |[1, 0]        |\n|4.9         |3.0        |1.4         |0.2        |Iris-setosa    |[1, 0]        |\n|4.7         |3.2        |1.3         |0.2        |Iris-setosa    |[1, 0]        |\n|4.6         |3.1        |1.5         |0.2        |Iris-setosa    |[1, 0]        |\n|5.0         |3.6        |1.4         |0.2        |Iris-setosa    |[1, 0]        |\n|5.4         |3.9        |1.7         |0.4        |Iris-setosa    |[1, 0]        |\n|4.6         |3.4        |1.4         |0.3        |Iris-setosa    |[1, 0]        |\n|5.0         |3.4        |1.5         |0.2        |Iris-setosa    |[1, 0]        |\n|4.4         |2.9        |1.4         |0.2        |Iris-setosa    |[1, 0]        |\n|4.9         |3.1        |1.5         |0.1        |Iris-setosa    |[1, 0]        |\n|5.4         |3.7        |1.5         |0.2        |Iris-setosa    |[1, 0]        |\n|4.8         |3.4        |1.6         |0.2        |Iris-setosa    |[1, 0]        |\n|4.8         |3.0        |1.4         |0.1        |Iris-setosa    |[1, 0]        |\n|4.3         |3.0        |1.1         |0.1        |Iris-setosa    |[1, 0]        |\n|5.8         |4.0        |1.2         |0.2        |Iris-setosa    |[1, 0]        |\n|5.7         |4.4        |1.5         |0.4        |Iris-setosa    |[1, 0]        |\n|5.4         |3.9        |1.3         |0.4        |Iris-setosa    |[1, 0]        |\n|5.1         |3.5        |1.4         |0.3        |Iris-setosa    |[1, 0]        |\n|5.7         |3.8        |1.7         |0.3        |Iris-setosa    |[1, 0]        |\n|5.1         |3.8        |1.5         |0.3        |Iris-setosa    |[1, 0]        |\n|5.4         |3.4        |1.7         |0.2        |Iris-setosa    |[1, 0]        |\n|5.1         |3.7        |1.5         |0.4        |Iris-setosa    |[1, 0]        |\n|4.6         |3.6        |1.0         |0.2        |Iris-setosa    |[1, 0]        |\n|5.1         |3.3        |1.7         |0.5        |Iris-setosa    |[1, 0]        |\n|4.8         |3.4        |1.9         |0.2        |Iris-setosa    |[1, 0]        |\n|5.0         |3.0        |1.6         |0.2        |Iris-setosa    |[1, 0]        |\n|5.0         |3.4        |1.6         |0.4        |Iris-setosa    |[1, 0]        |\n|5.2         |3.5        |1.5         |0.2        |Iris-setosa    |[1, 0]        |\n|5.2         |3.4        |1.4         |0.2        |Iris-setosa    |[1, 0]        |\n|4.7         |3.2        |1.6         |0.2        |Iris-setosa    |[1, 0]        |\n|4.8         |3.1        |1.6         |0.2        |Iris-setosa    |[1, 0]        |\n|5.4         |3.4        |1.5         |0.4        |Iris-setosa    |[1, 0]        |\n|5.2         |4.1        |1.5         |0.1        |Iris-setosa    |[1, 0]        |\n|5.5         |4.2        |1.4         |0.2        |Iris-setosa    |[1, 0]        |\n|4.9         |3.1        |1.5         |0.1        |Iris-setosa    |[1, 0]        |\n|5.0         |3.2        |1.2         |0.2        |Iris-setosa    |[1, 0]        |\n|5.5         |3.5        |1.3         |0.2        |Iris-setosa    |[1, 0]        |\n|4.9         |3.1        |1.5         |0.1        |Iris-setosa    |[1, 0]        |\n|4.4         |3.0        |1.3         |0.2        |Iris-setosa    |[1, 0]        |\n|5.1         |3.4        |1.5         |0.2        |Iris-setosa    |[1, 0]        |\n|5.0         |3.5        |1.3         |0.3        |Iris-setosa    |[1, 0]        |\n|4.5         |2.3        |1.3         |0.3        |Iris-setosa    |[1, 0]        |\n|4.4         |3.2        |1.3         |0.2        |Iris-setosa    |[1, 0]        |\n|5.0         |3.5        |1.6         |0.6        |Iris-setosa    |[1, 0]        |\n|5.1         |3.8        |1.9         |0.4        |Iris-setosa    |[1, 0]        |\n|4.8         |3.0        |1.4         |0.3        |Iris-setosa    |[1, 0]        |\n|5.1         |3.8        |1.6         |0.2        |Iris-setosa    |[1, 0]        |\n|4.6         |3.2        |1.4         |0.2        |Iris-setosa    |[1, 0]        |\n|5.3         |3.7        |1.5         |0.2        |Iris-setosa    |[1, 0]        |\n|5.0         |3.3        |1.4         |0.2        |Iris-setosa    |[1, 0]        |\n|7.0         |3.2        |4.7         |1.4        |Iris-versicolor|[0, 0]        |\n|6.4         |3.2        |4.5         |1.5        |Iris-versicolor|[0, 0]        |\n|6.9         |3.1        |4.9         |1.5        |Iris-versicolor|[0, 0]        |\n|5.5         |2.3        |4.0         |1.3        |Iris-versicolor|[0, 0]        |\n|6.5         |2.8        |4.6         |1.5        |Iris-versicolor|[0, 0]        |\n|5.7         |2.8        |4.5         |1.3        |Iris-versicolor|[0, 0]        |\n|6.3         |3.3        |4.7         |1.6        |Iris-versicolor|[0, 0]        |\n|4.9         |2.4        |3.3         |1.0        |Iris-versicolor|[0, 0]        |\n|6.6         |2.9        |4.6         |1.3        |Iris-versicolor|[0, 0]        |\n|5.2         |2.7        |3.9         |1.4        |Iris-versicolor|[0, 0]        |\n|5.0         |2.0        |3.5         |1.0        |Iris-versicolor|[0, 0]        |\n|5.9         |3.0        |4.2         |1.5        |Iris-versicolor|[0, 0]        |\n|6.0         |2.2        |4.0         |1.0        |Iris-versicolor|[0, 0]        |\n|6.1         |2.9        |4.7         |1.4        |Iris-versicolor|[0, 0]        |\n|5.6         |2.9        |3.6         |1.3        |Iris-versicolor|[0, 0]        |\n|6.7         |3.1        |4.4         |1.4        |Iris-versicolor|[0, 0]        |\n|5.6         |3.0        |4.5         |1.5        |Iris-versicolor|[0, 0]        |\n|5.8         |2.7        |4.1         |1.0        |Iris-versicolor|[0, 0]        |\n|6.2         |2.2        |4.5         |1.5        |Iris-versicolor|[0, 0]        |\n|5.6         |2.5        |3.9         |1.1        |Iris-versicolor|[0, 0]        |\n|5.9         |3.2        |4.8         |1.8        |Iris-versicolor|[0, 0]        |\n|6.1         |2.8        |4.0         |1.3        |Iris-versicolor|[0, 0]        |\n|6.3         |2.5        |4.9         |1.5        |Iris-versicolor|[0, 0]        |\n|6.1         |2.8        |4.7         |1.2        |Iris-versicolor|[0, 0]        |\n|6.4         |2.9        |4.3         |1.3        |Iris-versicolor|[0, 0]        |\n|6.6         |3.0        |4.4         |1.4        |Iris-versicolor|[0, 0]        |\n|6.8         |2.8        |4.8         |1.4        |Iris-versicolor|[0, 0]        |\n|6.7         |3.0        |5.0         |1.7        |Iris-versicolor|[0, 0]        |\n|6.0         |2.9        |4.5         |1.5        |Iris-versicolor|[0, 0]        |\n|5.7         |2.6        |3.5         |1.0        |Iris-versicolor|[0, 0]        |\n|5.5         |2.4        |3.8         |1.1        |Iris-versicolor|[0, 0]        |\n|5.5         |2.4        |3.7         |1.0        |Iris-versicolor|[0, 0]        |\n|5.8         |2.7        |3.9         |1.2        |Iris-versicolor|[0, 0]        |\n|6.0         |2.7        |5.1         |1.6        |Iris-versicolor|[0, 0]        |\n|5.4         |3.0        |4.5         |1.5        |Iris-versicolor|[0, 0]        |\n|6.0         |3.4        |4.5         |1.6        |Iris-versicolor|[0, 0]        |\n|6.7         |3.1        |4.7         |1.5        |Iris-versicolor|[0, 0]        |\n|6.3         |2.3        |4.4         |1.3        |Iris-versicolor|[0, 0]        |\n|5.6         |3.0        |4.1         |1.3        |Iris-versicolor|[0, 0]        |\n|5.5         |2.5        |4.0         |1.3        |Iris-versicolor|[0, 0]        |\n|5.5         |2.6        |4.4         |1.2        |Iris-versicolor|[0, 0]        |\n|6.1         |3.0        |4.6         |1.4        |Iris-versicolor|[0, 0]        |\n|5.8         |2.6        |4.0         |1.2        |Iris-versicolor|[0, 0]        |\n|5.0         |2.3        |3.3         |1.0        |Iris-versicolor|[0, 0]        |\n|5.6         |2.7        |4.2         |1.3        |Iris-versicolor|[0, 0]        |\n|5.7         |3.0        |4.2         |1.2        |Iris-versicolor|[0, 0]        |\n|5.7         |2.9        |4.2         |1.3        |Iris-versicolor|[0, 0]        |\n|6.2         |2.9        |4.3         |1.3        |Iris-versicolor|[0, 0]        |\n|5.1         |2.5        |3.0         |1.1        |Iris-versicolor|[0, 0]        |\n|5.7         |2.8        |4.1         |1.3        |Iris-versicolor|[0, 0]        |\n|6.3         |3.3        |6.0         |2.5        |Iris-virginica |[0, 1]        |\n|5.8         |2.7        |5.1         |1.9        |Iris-virginica |[0, 1]        |\n|7.1         |3.0        |5.9         |2.1        |Iris-virginica |[0, 1]        |\n|6.3         |2.9        |5.6         |1.8        |Iris-virginica |[0, 1]        |\n|6.5         |3.0        |5.8         |2.2        |Iris-virginica |[0, 1]        |\n|7.6         |3.0        |6.6         |2.1        |Iris-virginica |[0, 1]        |\n|4.9         |2.5        |4.5         |1.7        |Iris-virginica |[0, 1]        |\n|7.3         |2.9        |6.3         |1.8        |Iris-virginica |[0, 1]        |\n|6.7         |2.5        |5.8         |1.8        |Iris-virginica |[0, 1]        |\n|7.2         |3.6        |6.1         |2.5        |Iris-virginica |[0, 1]        |\n+------------+-----------+------------+-----------+---------------+--------------+\nonly showing top 110 rows\n\n"
    }
   ],
   "source": [
    "data = data.withColumn(\n",
    "    \"one_hot_values\",\n",
    "    one_hot_encode_udf(F.col(\"class\"))\n",
    ")\n",
    "\n",
    "data.show(110, False)"
   ]
  },
  {
   "cell_type": "markdown",
   "metadata": {},
   "source": [
    "# UDF as SQL/HIVE Functions"
   ]
  },
  {
   "cell_type": "code",
   "execution_count": 13,
   "metadata": {},
   "outputs": [
    {
     "output_type": "execute_result",
     "data": {
      "text/plain": "<function __main__.one_hot_encode(class_label)>"
     },
     "metadata": {},
     "execution_count": 13
    }
   ],
   "source": [
    "sqlContext.registerFunction(\"one_hot_encode_udf\", one_hot_encode, T.ArrayType(T.IntegerType()))"
   ]
  },
  {
   "cell_type": "code",
   "execution_count": 14,
   "metadata": {},
   "outputs": [],
   "source": [
    "data.registerTempTable(\"data\")"
   ]
  },
  {
   "cell_type": "code",
   "execution_count": 15,
   "metadata": {},
   "outputs": [
    {
     "output_type": "stream",
     "name": "stdout",
     "text": "+------------+-----------+------------+-----------+---------------+--------------+-----------+\n|sepal_length|sepal_width|petal_length|petal_width|class          |one_hot_values|one_hot_sql|\n+------------+-----------+------------+-----------+---------------+--------------+-----------+\n|5.1         |3.5        |1.4         |0.2        |Iris-setosa    |[1, 0]        |[1, 0]     |\n|4.9         |3.0        |1.4         |0.2        |Iris-setosa    |[1, 0]        |[1, 0]     |\n|4.7         |3.2        |1.3         |0.2        |Iris-setosa    |[1, 0]        |[1, 0]     |\n|4.6         |3.1        |1.5         |0.2        |Iris-setosa    |[1, 0]        |[1, 0]     |\n|5.0         |3.6        |1.4         |0.2        |Iris-setosa    |[1, 0]        |[1, 0]     |\n|5.4         |3.9        |1.7         |0.4        |Iris-setosa    |[1, 0]        |[1, 0]     |\n|4.6         |3.4        |1.4         |0.3        |Iris-setosa    |[1, 0]        |[1, 0]     |\n|5.0         |3.4        |1.5         |0.2        |Iris-setosa    |[1, 0]        |[1, 0]     |\n|4.4         |2.9        |1.4         |0.2        |Iris-setosa    |[1, 0]        |[1, 0]     |\n|4.9         |3.1        |1.5         |0.1        |Iris-setosa    |[1, 0]        |[1, 0]     |\n|5.4         |3.7        |1.5         |0.2        |Iris-setosa    |[1, 0]        |[1, 0]     |\n|4.8         |3.4        |1.6         |0.2        |Iris-setosa    |[1, 0]        |[1, 0]     |\n|4.8         |3.0        |1.4         |0.1        |Iris-setosa    |[1, 0]        |[1, 0]     |\n|4.3         |3.0        |1.1         |0.1        |Iris-setosa    |[1, 0]        |[1, 0]     |\n|5.8         |4.0        |1.2         |0.2        |Iris-setosa    |[1, 0]        |[1, 0]     |\n|5.7         |4.4        |1.5         |0.4        |Iris-setosa    |[1, 0]        |[1, 0]     |\n|5.4         |3.9        |1.3         |0.4        |Iris-setosa    |[1, 0]        |[1, 0]     |\n|5.1         |3.5        |1.4         |0.3        |Iris-setosa    |[1, 0]        |[1, 0]     |\n|5.7         |3.8        |1.7         |0.3        |Iris-setosa    |[1, 0]        |[1, 0]     |\n|5.1         |3.8        |1.5         |0.3        |Iris-setosa    |[1, 0]        |[1, 0]     |\n|5.4         |3.4        |1.7         |0.2        |Iris-setosa    |[1, 0]        |[1, 0]     |\n|5.1         |3.7        |1.5         |0.4        |Iris-setosa    |[1, 0]        |[1, 0]     |\n|4.6         |3.6        |1.0         |0.2        |Iris-setosa    |[1, 0]        |[1, 0]     |\n|5.1         |3.3        |1.7         |0.5        |Iris-setosa    |[1, 0]        |[1, 0]     |\n|4.8         |3.4        |1.9         |0.2        |Iris-setosa    |[1, 0]        |[1, 0]     |\n|5.0         |3.0        |1.6         |0.2        |Iris-setosa    |[1, 0]        |[1, 0]     |\n|5.0         |3.4        |1.6         |0.4        |Iris-setosa    |[1, 0]        |[1, 0]     |\n|5.2         |3.5        |1.5         |0.2        |Iris-setosa    |[1, 0]        |[1, 0]     |\n|5.2         |3.4        |1.4         |0.2        |Iris-setosa    |[1, 0]        |[1, 0]     |\n|4.7         |3.2        |1.6         |0.2        |Iris-setosa    |[1, 0]        |[1, 0]     |\n|4.8         |3.1        |1.6         |0.2        |Iris-setosa    |[1, 0]        |[1, 0]     |\n|5.4         |3.4        |1.5         |0.4        |Iris-setosa    |[1, 0]        |[1, 0]     |\n|5.2         |4.1        |1.5         |0.1        |Iris-setosa    |[1, 0]        |[1, 0]     |\n|5.5         |4.2        |1.4         |0.2        |Iris-setosa    |[1, 0]        |[1, 0]     |\n|4.9         |3.1        |1.5         |0.1        |Iris-setosa    |[1, 0]        |[1, 0]     |\n|5.0         |3.2        |1.2         |0.2        |Iris-setosa    |[1, 0]        |[1, 0]     |\n|5.5         |3.5        |1.3         |0.2        |Iris-setosa    |[1, 0]        |[1, 0]     |\n|4.9         |3.1        |1.5         |0.1        |Iris-setosa    |[1, 0]        |[1, 0]     |\n|4.4         |3.0        |1.3         |0.2        |Iris-setosa    |[1, 0]        |[1, 0]     |\n|5.1         |3.4        |1.5         |0.2        |Iris-setosa    |[1, 0]        |[1, 0]     |\n|5.0         |3.5        |1.3         |0.3        |Iris-setosa    |[1, 0]        |[1, 0]     |\n|4.5         |2.3        |1.3         |0.3        |Iris-setosa    |[1, 0]        |[1, 0]     |\n|4.4         |3.2        |1.3         |0.2        |Iris-setosa    |[1, 0]        |[1, 0]     |\n|5.0         |3.5        |1.6         |0.6        |Iris-setosa    |[1, 0]        |[1, 0]     |\n|5.1         |3.8        |1.9         |0.4        |Iris-setosa    |[1, 0]        |[1, 0]     |\n|4.8         |3.0        |1.4         |0.3        |Iris-setosa    |[1, 0]        |[1, 0]     |\n|5.1         |3.8        |1.6         |0.2        |Iris-setosa    |[1, 0]        |[1, 0]     |\n|4.6         |3.2        |1.4         |0.2        |Iris-setosa    |[1, 0]        |[1, 0]     |\n|5.3         |3.7        |1.5         |0.2        |Iris-setosa    |[1, 0]        |[1, 0]     |\n|5.0         |3.3        |1.4         |0.2        |Iris-setosa    |[1, 0]        |[1, 0]     |\n|7.0         |3.2        |4.7         |1.4        |Iris-versicolor|[0, 0]        |[0, 0]     |\n|6.4         |3.2        |4.5         |1.5        |Iris-versicolor|[0, 0]        |[0, 0]     |\n|6.9         |3.1        |4.9         |1.5        |Iris-versicolor|[0, 0]        |[0, 0]     |\n|5.5         |2.3        |4.0         |1.3        |Iris-versicolor|[0, 0]        |[0, 0]     |\n|6.5         |2.8        |4.6         |1.5        |Iris-versicolor|[0, 0]        |[0, 0]     |\n|5.7         |2.8        |4.5         |1.3        |Iris-versicolor|[0, 0]        |[0, 0]     |\n|6.3         |3.3        |4.7         |1.6        |Iris-versicolor|[0, 0]        |[0, 0]     |\n|4.9         |2.4        |3.3         |1.0        |Iris-versicolor|[0, 0]        |[0, 0]     |\n|6.6         |2.9        |4.6         |1.3        |Iris-versicolor|[0, 0]        |[0, 0]     |\n|5.2         |2.7        |3.9         |1.4        |Iris-versicolor|[0, 0]        |[0, 0]     |\n|5.0         |2.0        |3.5         |1.0        |Iris-versicolor|[0, 0]        |[0, 0]     |\n|5.9         |3.0        |4.2         |1.5        |Iris-versicolor|[0, 0]        |[0, 0]     |\n|6.0         |2.2        |4.0         |1.0        |Iris-versicolor|[0, 0]        |[0, 0]     |\n|6.1         |2.9        |4.7         |1.4        |Iris-versicolor|[0, 0]        |[0, 0]     |\n|5.6         |2.9        |3.6         |1.3        |Iris-versicolor|[0, 0]        |[0, 0]     |\n|6.7         |3.1        |4.4         |1.4        |Iris-versicolor|[0, 0]        |[0, 0]     |\n|5.6         |3.0        |4.5         |1.5        |Iris-versicolor|[0, 0]        |[0, 0]     |\n|5.8         |2.7        |4.1         |1.0        |Iris-versicolor|[0, 0]        |[0, 0]     |\n|6.2         |2.2        |4.5         |1.5        |Iris-versicolor|[0, 0]        |[0, 0]     |\n|5.6         |2.5        |3.9         |1.1        |Iris-versicolor|[0, 0]        |[0, 0]     |\n|5.9         |3.2        |4.8         |1.8        |Iris-versicolor|[0, 0]        |[0, 0]     |\n|6.1         |2.8        |4.0         |1.3        |Iris-versicolor|[0, 0]        |[0, 0]     |\n|6.3         |2.5        |4.9         |1.5        |Iris-versicolor|[0, 0]        |[0, 0]     |\n|6.1         |2.8        |4.7         |1.2        |Iris-versicolor|[0, 0]        |[0, 0]     |\n|6.4         |2.9        |4.3         |1.3        |Iris-versicolor|[0, 0]        |[0, 0]     |\n|6.6         |3.0        |4.4         |1.4        |Iris-versicolor|[0, 0]        |[0, 0]     |\n|6.8         |2.8        |4.8         |1.4        |Iris-versicolor|[0, 0]        |[0, 0]     |\n|6.7         |3.0        |5.0         |1.7        |Iris-versicolor|[0, 0]        |[0, 0]     |\n|6.0         |2.9        |4.5         |1.5        |Iris-versicolor|[0, 0]        |[0, 0]     |\n|5.7         |2.6        |3.5         |1.0        |Iris-versicolor|[0, 0]        |[0, 0]     |\n|5.5         |2.4        |3.8         |1.1        |Iris-versicolor|[0, 0]        |[0, 0]     |\n|5.5         |2.4        |3.7         |1.0        |Iris-versicolor|[0, 0]        |[0, 0]     |\n|5.8         |2.7        |3.9         |1.2        |Iris-versicolor|[0, 0]        |[0, 0]     |\n|6.0         |2.7        |5.1         |1.6        |Iris-versicolor|[0, 0]        |[0, 0]     |\n|5.4         |3.0        |4.5         |1.5        |Iris-versicolor|[0, 0]        |[0, 0]     |\n|6.0         |3.4        |4.5         |1.6        |Iris-versicolor|[0, 0]        |[0, 0]     |\n|6.7         |3.1        |4.7         |1.5        |Iris-versicolor|[0, 0]        |[0, 0]     |\n|6.3         |2.3        |4.4         |1.3        |Iris-versicolor|[0, 0]        |[0, 0]     |\n|5.6         |3.0        |4.1         |1.3        |Iris-versicolor|[0, 0]        |[0, 0]     |\n|5.5         |2.5        |4.0         |1.3        |Iris-versicolor|[0, 0]        |[0, 0]     |\n|5.5         |2.6        |4.4         |1.2        |Iris-versicolor|[0, 0]        |[0, 0]     |\n|6.1         |3.0        |4.6         |1.4        |Iris-versicolor|[0, 0]        |[0, 0]     |\n|5.8         |2.6        |4.0         |1.2        |Iris-versicolor|[0, 0]        |[0, 0]     |\n|5.0         |2.3        |3.3         |1.0        |Iris-versicolor|[0, 0]        |[0, 0]     |\n|5.6         |2.7        |4.2         |1.3        |Iris-versicolor|[0, 0]        |[0, 0]     |\n|5.7         |3.0        |4.2         |1.2        |Iris-versicolor|[0, 0]        |[0, 0]     |\n|5.7         |2.9        |4.2         |1.3        |Iris-versicolor|[0, 0]        |[0, 0]     |\n|6.2         |2.9        |4.3         |1.3        |Iris-versicolor|[0, 0]        |[0, 0]     |\n|5.1         |2.5        |3.0         |1.1        |Iris-versicolor|[0, 0]        |[0, 0]     |\n|5.7         |2.8        |4.1         |1.3        |Iris-versicolor|[0, 0]        |[0, 0]     |\n|6.3         |3.3        |6.0         |2.5        |Iris-virginica |[0, 1]        |[0, 1]     |\n|5.8         |2.7        |5.1         |1.9        |Iris-virginica |[0, 1]        |[0, 1]     |\n|7.1         |3.0        |5.9         |2.1        |Iris-virginica |[0, 1]        |[0, 1]     |\n|6.3         |2.9        |5.6         |1.8        |Iris-virginica |[0, 1]        |[0, 1]     |\n|6.5         |3.0        |5.8         |2.2        |Iris-virginica |[0, 1]        |[0, 1]     |\n|7.6         |3.0        |6.6         |2.1        |Iris-virginica |[0, 1]        |[0, 1]     |\n|4.9         |2.5        |4.5         |1.7        |Iris-virginica |[0, 1]        |[0, 1]     |\n|7.3         |2.9        |6.3         |1.8        |Iris-virginica |[0, 1]        |[0, 1]     |\n|6.7         |2.5        |5.8         |1.8        |Iris-virginica |[0, 1]        |[0, 1]     |\n|7.2         |3.6        |6.1         |2.5        |Iris-virginica |[0, 1]        |[0, 1]     |\n+------------+-----------+------------+-----------+---------------+--------------+-----------+\nonly showing top 110 rows\n\n"
    }
   ],
   "source": [
    "sql_output = sqlContext.sql(\"\"\"\n",
    "    SELECT\n",
    "        *,\n",
    "        one_hot_encode_udf(class) as one_hot_sql\n",
    "    FROM\n",
    "        data\n",
    "\"\"\")\n",
    "\n",
    "sql_output.show(110, False)"
   ]
  },
  {
   "cell_type": "markdown",
   "metadata": {},
   "source": [
    "# Explode!!!"
   ]
  },
  {
   "cell_type": "code",
   "execution_count": 22,
   "metadata": {},
   "outputs": [],
   "source": [
    "from pyspark.sql.window import Window"
   ]
  },
  {
   "cell_type": "code",
   "execution_count": 23,
   "metadata": {},
   "outputs": [
    {
     "output_type": "stream",
     "name": "stdout",
     "text": "+------------+-----------+------------+-----------+-----------+--------------+-----------+---+\n|sepal_length|sepal_width|petal_length|petal_width|class      |one_hot_values|one_hot_sql|id |\n+------------+-----------+------------+-----------+-----------+--------------+-----------+---+\n|5.1         |3.5        |1.4         |0.2        |Iris-setosa|[1, 0]        |[1, 0]     |1  |\n|4.9         |3.0        |1.4         |0.2        |Iris-setosa|[1, 0]        |[1, 0]     |2  |\n|4.7         |3.2        |1.3         |0.2        |Iris-setosa|[1, 0]        |[1, 0]     |3  |\n|4.6         |3.1        |1.5         |0.2        |Iris-setosa|[1, 0]        |[1, 0]     |4  |\n|5.0         |3.6        |1.4         |0.2        |Iris-setosa|[1, 0]        |[1, 0]     |5  |\n+------------+-----------+------------+-----------+-----------+--------------+-----------+---+\nonly showing top 5 rows\n\n"
    }
   ],
   "source": [
    "sql_output = sql_output.withColumn(\n",
    "    \"id\",\n",
    "    F.row_number().over(Window.orderBy(\"class\"))\n",
    ")\n",
    "\n",
    "sql_output.show(5, False)"
   ]
  },
  {
   "cell_type": "code",
   "execution_count": 24,
   "metadata": {},
   "outputs": [
    {
     "output_type": "stream",
     "name": "stdout",
     "text": "+---+---+---+\n| id|pos|col|\n+---+---+---+\n|  1|  0|  1|\n|  1|  1|  0|\n|  2|  0|  1|\n|  2|  1|  0|\n|  3|  0|  1|\n+---+---+---+\nonly showing top 5 rows\n\n"
    }
   ],
   "source": [
    "exploded_values = sql_output.select(\"id\", F.posexplode(\"one_hot_values\"))\n",
    "exploded_values.show(5)"
   ]
  },
  {
   "cell_type": "code",
   "execution_count": 26,
   "metadata": {},
   "outputs": [
    {
     "output_type": "stream",
     "name": "stdout",
     "text": "+---+------------+-----------+------------+-----------+-----------+--------------+-----------+---+---+\n|id |sepal_length|sepal_width|petal_length|petal_width|class      |one_hot_values|one_hot_sql|pos|col|\n+---+------------+-----------+------------+-----------+-----------+--------------+-----------+---+---+\n|1  |5.1         |3.5        |1.4         |0.2        |Iris-setosa|[1, 0]        |[1, 0]     |0  |1  |\n|1  |5.1         |3.5        |1.4         |0.2        |Iris-setosa|[1, 0]        |[1, 0]     |1  |0  |\n|2  |4.9         |3.0        |1.4         |0.2        |Iris-setosa|[1, 0]        |[1, 0]     |0  |1  |\n|2  |4.9         |3.0        |1.4         |0.2        |Iris-setosa|[1, 0]        |[1, 0]     |1  |0  |\n|3  |4.7         |3.2        |1.3         |0.2        |Iris-setosa|[1, 0]        |[1, 0]     |0  |1  |\n|3  |4.7         |3.2        |1.3         |0.2        |Iris-setosa|[1, 0]        |[1, 0]     |1  |0  |\n|4  |4.6         |3.1        |1.5         |0.2        |Iris-setosa|[1, 0]        |[1, 0]     |0  |1  |\n|4  |4.6         |3.1        |1.5         |0.2        |Iris-setosa|[1, 0]        |[1, 0]     |1  |0  |\n|5  |5.0         |3.6        |1.4         |0.2        |Iris-setosa|[1, 0]        |[1, 0]     |0  |1  |\n|5  |5.0         |3.6        |1.4         |0.2        |Iris-setosa|[1, 0]        |[1, 0]     |1  |0  |\n+---+------------+-----------+------------+-----------+-----------+--------------+-----------+---+---+\nonly showing top 10 rows\n\n"
    }
   ],
   "source": [
    "sql_output = sql_output.join(\n",
    "    exploded_values,\n",
    "    on=\"id\",\n",
    "    how=\"inner\"\n",
    ")\n",
    "\n",
    "sql_output.show(10, False)"
   ]
  }
 ],
 "metadata": {
  "language_info": {
   "codemirror_mode": {
    "name": "ipython",
    "version": 3
   },
   "file_extension": ".py",
   "mimetype": "text/x-python",
   "name": "python",
   "nbconvert_exporter": "python",
   "pygments_lexer": "ipython3",
   "version": "3.6.7-final"
  },
  "orig_nbformat": 2,
  "kernelspec": {
   "name": "python3",
   "display_name": "Python 3"
  }
 },
 "nbformat": 4,
 "nbformat_minor": 2
}
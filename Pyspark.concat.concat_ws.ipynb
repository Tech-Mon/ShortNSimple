{
 "cells": [
  {
   "cell_type": "code",
   "execution_count": 1,
   "metadata": {},
   "outputs": [],
   "source": [
    "import numpy as np \n",
    "import pandas as pd \n",
    "import pyspark.sql.types as T\n",
    "import pyspark.sql.functions as F\n",
    "from pyspark.sql import SparkSession\n",
    "from pyspark.sql.window import Window"
   ]
  },
  {
   "cell_type": "code",
   "execution_count": 2,
   "metadata": {},
   "outputs": [
    {
     "output_type": "execute_result",
     "data": {
      "text/plain": "<pyspark.sql.session.SparkSession at 0x1ea964e8358>",
      "text/html": "\n            <div>\n                <p><b>SparkSession - in-memory</b></p>\n                \n        <div>\n            <p><b>SparkContext</b></p>\n\n            <p><a href=\"http://Done:4040\">Spark UI</a></p>\n\n            <dl>\n              <dt>Version</dt>\n                <dd><code>v2.4.5</code></dd>\n              <dt>Master</dt>\n                <dd><code>local[*]</code></dd>\n              <dt>AppName</dt>\n                <dd><code>ShortNSimple</code></dd>\n            </dl>\n        </div>\n        \n            </div>\n        "
     },
     "metadata": {},
     "execution_count": 2
    }
   ],
   "source": [
    "# initialize spark session\n",
    "spark = SparkSession.builder \\\n",
    "            .master(\"local[*]\") \\\n",
    "            .appName(\"ShortNSimple\") \\\n",
    "            .getOrCreate()\n",
    "spark"
   ]
  },
  {
   "cell_type": "markdown",
   "metadata": {},
   "source": [
    "Data source: https://www.kaggle.com/danofer/zipcodes-county-fips-crosswalk"
   ]
  },
  {
   "cell_type": "code",
   "execution_count": 3,
   "metadata": {},
   "outputs": [
    {
     "output_type": "stream",
     "name": "stdout",
     "text": "+-----+--------------+-----+\n|ZIP  |COUNTYNAME    |STATE|\n+-----+--------------+-----+\n|36003|Autauga County|AL   |\n|36006|Autauga County|AL   |\n|36067|Autauga County|AL   |\n|36066|Autauga County|AL   |\n|36703|Autauga County|AL   |\n+-----+--------------+-----+\nonly showing top 5 rows\n\n"
    }
   ],
   "source": [
    "data = spark.createDataFrame(pd.read_csv(\"datasets/ZIP-COUNTY-FIPS_2017-06.csv\"))\n",
    "data = data.drop(\"STCOUNTYFP\", \"CLASSFP\")\n",
    "data.show(5, False)"
   ]
  },
  {
   "cell_type": "code",
   "execution_count": 4,
   "metadata": {},
   "outputs": [
    {
     "output_type": "stream",
     "name": "stdout",
     "text": "+-----+-------------+-----+\n|ZIP  |COUNTYNAME   |STATE|\n+-----+-------------+-----+\n|36003|AutaugaCounty|AL   |\n|36006|AutaugaCounty|AL   |\n|36067|AutaugaCounty|AL   |\n|36066|AutaugaCounty|AL   |\n|36703|AutaugaCounty|AL   |\n|36701|AutaugaCounty|AL   |\n|36091|AutaugaCounty|AL   |\n|36051|AutaugaCounty|AL   |\n|36068|AutaugaCounty|AL   |\n|36008|AutaugaCounty|AL   |\n+-----+-------------+-----+\nonly showing top 10 rows\n\n"
    }
   ],
   "source": [
    "data = data.withColumn(\n",
    "    \"COUNTYNAME\",\n",
    "    F.regexp_replace(F.col(\"COUNTYNAME\"), r'\\s+', '')\n",
    ")\n",
    "\n",
    "data.show(10, False)"
   ]
  },
  {
   "cell_type": "markdown",
   "metadata": {},
   "source": [
    "## concat"
   ]
  },
  {
   "cell_type": "code",
   "execution_count": 5,
   "metadata": {},
   "outputs": [
    {
     "output_type": "stream",
     "name": "stdout",
     "text": "+-----+-------------+-----+--------------------+\n|ZIP  |COUNTYNAME   |STATE|concat_primary_key  |\n+-----+-------------+-----+--------------------+\n|36003|AutaugaCounty|AL   |36003AutaugaCountyAL|\n|36006|AutaugaCounty|AL   |36006AutaugaCountyAL|\n|36067|AutaugaCounty|AL   |36067AutaugaCountyAL|\n|36066|AutaugaCounty|AL   |36066AutaugaCountyAL|\n|36703|AutaugaCounty|AL   |36703AutaugaCountyAL|\n+-----+-------------+-----+--------------------+\nonly showing top 5 rows\n\n"
    }
   ],
   "source": [
    "data = data.withColumn(\n",
    "    \"concat_primary_key\",\n",
    "    F.concat(F.col(\"ZIP\"), F.col(\"COUNTYNAME\"), F.col(\"STATE\"))\n",
    ")\n",
    "data.show(5, False)"
   ]
  },
  {
   "cell_type": "markdown",
   "metadata": {},
   "source": [
    "## concat_ws"
   ]
  },
  {
   "cell_type": "code",
   "execution_count": 6,
   "metadata": {},
   "outputs": [
    {
     "output_type": "stream",
     "name": "stdout",
     "text": "+-----+-------------+-----+--------------------+----------------------+\n|ZIP  |COUNTYNAME   |STATE|concat_primary_key  |concat_ws_primary_key |\n+-----+-------------+-----+--------------------+----------------------+\n|36003|AutaugaCounty|AL   |36003AutaugaCountyAL|36003_AutaugaCounty_AL|\n|36006|AutaugaCounty|AL   |36006AutaugaCountyAL|36006_AutaugaCounty_AL|\n|36067|AutaugaCounty|AL   |36067AutaugaCountyAL|36067_AutaugaCounty_AL|\n|36066|AutaugaCounty|AL   |36066AutaugaCountyAL|36066_AutaugaCounty_AL|\n|36703|AutaugaCounty|AL   |36703AutaugaCountyAL|36703_AutaugaCounty_AL|\n+-----+-------------+-----+--------------------+----------------------+\nonly showing top 5 rows\n\n"
    }
   ],
   "source": [
    "data = data.withColumn(\n",
    "    \"concat_ws_primary_key\",\n",
    "    F.concat_ws(\"_\", F.col(\"ZIP\"), F.col(\"COUNTYNAME\"), F.col(\"STATE\"))\n",
    ")\n",
    "data.show(5, False)"
   ]
  }
 ],
 "metadata": {
  "language_info": {
   "codemirror_mode": {
    "name": "ipython",
    "version": 3
   },
   "file_extension": ".py",
   "mimetype": "text/x-python",
   "name": "python",
   "nbconvert_exporter": "python",
   "pygments_lexer": "ipython3",
   "version": "3.6.7-final"
  },
  "orig_nbformat": 2,
  "kernelspec": {
   "name": "python3",
   "display_name": "Python 3"
  }
 },
 "nbformat": 4,
 "nbformat_minor": 2
}
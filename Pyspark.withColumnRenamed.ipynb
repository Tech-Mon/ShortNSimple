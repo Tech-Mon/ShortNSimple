{
 "cells": [
  {
   "cell_type": "code",
   "execution_count": 1,
   "metadata": {},
   "outputs": [],
   "source": [
    "import numpy as np \n",
    "import pandas as pd \n",
    "import pyspark.sql.types as T\n",
    "import pyspark.sql.functions as F\n",
    "from pyspark.sql import SparkSession\n",
    "from pyspark.sql.window import Window"
   ]
  },
  {
   "cell_type": "code",
   "execution_count": 2,
   "metadata": {},
   "outputs": [
    {
     "output_type": "execute_result",
     "data": {
      "text/plain": "<pyspark.sql.session.SparkSession at 0x17fe4a19278>",
      "text/html": "\n            <div>\n                <p><b>SparkSession - in-memory</b></p>\n                \n        <div>\n            <p><b>SparkContext</b></p>\n\n            <p><a href=\"http://Done:4040\">Spark UI</a></p>\n\n            <dl>\n              <dt>Version</dt>\n                <dd><code>v2.4.5</code></dd>\n              <dt>Master</dt>\n                <dd><code>local[*]</code></dd>\n              <dt>AppName</dt>\n                <dd><code>ShortNSimple</code></dd>\n            </dl>\n        </div>\n        \n            </div>\n        "
     },
     "metadata": {},
     "execution_count": 2
    }
   ],
   "source": [
    "# initialize spark session\n",
    "spark = SparkSession.builder \\\n",
    "            .master(\"local[*]\") \\\n",
    "            .appName(\"ShortNSimple\") \\\n",
    "            .getOrCreate()\n",
    "spark"
   ]
  },
  {
   "cell_type": "code",
   "execution_count": 3,
   "metadata": {},
   "outputs": [
    {
     "output_type": "stream",
     "name": "stdout",
     "text": "+-----+------------+---------------+--------+-----------------------+--------------+-----------------+---------------+-------------------------+--------------------+-------------------+--------+---------------------------------+------------------------+\n|Class| \t1) Alcohol| \t2) Malic acid| \t3) Ash|\t4) Alcalinity of ash  | \t5) Magnesium|\t6) Total phenols| \t7) Flavanoids| \t8) Nonflavanoid phenols| \t9) Proanthocyanins|\t10)Color intensity| \t11)Hue| \t12)OD280/OD315 of diluted wines| \t13)Proline            |\n+-----+------------+---------------+--------+-----------------------+--------------+-----------------+---------------+-------------------------+--------------------+-------------------+--------+---------------------------------+------------------------+\n|1    |14.23       |1.71           |2.43    |15.6                   |127           |2.8              |3.06           |0.28                     |2.29                |5.64               |1.04    |3.92                             |1065                    |\n|1    |13.2        |1.78           |2.14    |11.2                   |100           |2.65             |2.76           |0.26                     |1.28                |4.38               |1.05    |3.4                              |1050                    |\n|1    |13.16       |2.36           |2.67    |18.6                   |101           |2.8              |3.24           |0.3                      |2.81                |5.68               |1.03    |3.17                             |1185                    |\n|1    |14.37       |1.95           |2.5     |16.8                   |113           |3.85             |3.49           |0.24                     |2.18                |7.8                |0.86    |3.45                             |1480                    |\n|1    |13.24       |2.59           |2.87    |21.0                   |118           |2.8              |2.69           |0.39                     |1.82                |4.32               |1.04    |2.93                             |735                     |\n+-----+------------+---------------+--------+-----------------------+--------------+-----------------+---------------+-------------------------+--------------------+-------------------+--------+---------------------------------+------------------------+\nonly showing top 5 rows\n\n"
    }
   ],
   "source": [
    "# read the Wine dataset\n",
    "wine_data = spark.createDataFrame(pd.read_csv(\"datasets/wine.csv\"))\n",
    "wine_data.show(5, False)"
   ]
  },
  {
   "cell_type": "code",
   "execution_count": 4,
   "metadata": {},
   "outputs": [
    {
     "output_type": "stream",
     "name": "stdout",
     "text": "['Class', ' \\t1) Alcohol', ' \\t2) Malic acid', ' \\t3) Ash', '\\t4) Alcalinity of ash  ', ' \\t5) Magnesium', '\\t6) Total phenols', ' \\t7) Flavanoids', ' \\t8) Nonflavanoid phenols', ' \\t9) Proanthocyanins', '\\t10)Color intensity', ' \\t11)Hue', ' \\t12)OD280/OD315 of diluted wines', ' \\t13)Proline            ']\n"
    }
   ],
   "source": [
    "# print the column name\n",
    "print(wine_data.columns)"
   ]
  },
  {
   "cell_type": "markdown",
   "metadata": {},
   "source": [
    "## Rename a column"
   ]
  },
  {
   "cell_type": "code",
   "execution_count": 12,
   "metadata": {},
   "outputs": [
    {
     "output_type": "stream",
     "name": "stdout",
     "text": "['0) class_labels', ' \\t1) Alcohol', ' \\t2) Malic acid', ' \\t3) Ash', '\\t4) Alcalinity of ash  ', ' \\t5) Magnesium', '\\t6) Total phenols', ' \\t7) Flavanoids', ' \\t8) Nonflavanoid phenols', ' \\t9) Proanthocyanins', '\\t10)Color intensity', ' \\t11)Hue', ' \\t12)OD280/OD315 of diluted wines', ' \\t13)Proline            ']\n"
    }
   ],
   "source": [
    "wine_data = wine_data.withColumnRenamed(\n",
    "    \"class_labels\",\n",
    "    \"0) class_labels\"\n",
    ")\n",
    "print(wine_data.columns)"
   ]
  },
  {
   "cell_type": "code",
   "execution_count": 13,
   "metadata": {},
   "outputs": [],
   "source": [
    "old_columns = wine_data.columns"
   ]
  },
  {
   "cell_type": "code",
   "execution_count": 14,
   "metadata": {},
   "outputs": [
    {
     "output_type": "execute_result",
     "data": {
      "text/plain": "'Alcohol'"
     },
     "metadata": {},
     "execution_count": 14
    }
   ],
   "source": [
    "' \\t1) Alcohol'.strip('\\t ').split(')')[1].strip()"
   ]
  },
  {
   "cell_type": "code",
   "execution_count": 17,
   "metadata": {},
   "outputs": [
    {
     "output_type": "stream",
     "name": "stdout",
     "text": "['class_labels', 'alcohol', 'malic_acid', 'ash', 'alcalinity_of_ash', 'magnesium', 'total_phenols', 'flavanoids', 'nonflavanoid_phenols', 'proanthocyanins', 'color_intensity', 'hue', 'od280/od315_of_diluted_wines', 'proline']\n"
    }
   ],
   "source": [
    "new_column_name = [each_col.strip('\\t ').split(')')[1].strip().lower().replace(' ', '_') for each_col in old_columns]\n",
    "print(new_column_name)"
   ]
  },
  {
   "cell_type": "markdown",
   "metadata": {},
   "source": [
    "## Rename multiple columns"
   ]
  },
  {
   "cell_type": "code",
   "execution_count": 19,
   "metadata": {},
   "outputs": [
    {
     "output_type": "stream",
     "name": "stdout",
     "text": "['class_labels', 'alcohol', 'malic_acid', 'ash', 'alcalinity_of_ash', 'magnesium', 'total_phenols', 'flavanoids', 'nonflavanoid_phenols', 'proanthocyanins', 'color_intensity', 'hue', 'od280/od315_of_diluted_wines', 'proline']\n"
    }
   ],
   "source": [
    "for oldcol, newcol in zip(old_columns, new_column_name):\n",
    "    wine_data = wine_data.withColumnRenamed(oldcol, newcol)\n",
    "\n",
    "print(wine_data.columns)"
   ]
  },
  {
   "cell_type": "code",
   "execution_count": 20,
   "metadata": {},
   "outputs": [
    {
     "output_type": "stream",
     "name": "stdout",
     "text": "+------------+-------+----------+----+-----------------+---------+-------------+----------+--------------------+---------------+---------------+----+----------------------------+-------+\n|class_labels|alcohol|malic_acid|ash |alcalinity_of_ash|magnesium|total_phenols|flavanoids|nonflavanoid_phenols|proanthocyanins|color_intensity|hue |od280/od315_of_diluted_wines|proline|\n+------------+-------+----------+----+-----------------+---------+-------------+----------+--------------------+---------------+---------------+----+----------------------------+-------+\n|1           |14.23  |1.71      |2.43|15.6             |127      |2.8          |3.06      |0.28                |2.29           |5.64           |1.04|3.92                        |1065   |\n|1           |13.2   |1.78      |2.14|11.2             |100      |2.65         |2.76      |0.26                |1.28           |4.38           |1.05|3.4                         |1050   |\n|1           |13.16  |2.36      |2.67|18.6             |101      |2.8          |3.24      |0.3                 |2.81           |5.68           |1.03|3.17                        |1185   |\n|1           |14.37  |1.95      |2.5 |16.8             |113      |3.85         |3.49      |0.24                |2.18           |7.8            |0.86|3.45                        |1480   |\n|1           |13.24  |2.59      |2.87|21.0             |118      |2.8          |2.69      |0.39                |1.82           |4.32           |1.04|2.93                        |735    |\n+------------+-------+----------+----+-----------------+---------+-------------+----------+--------------------+---------------+---------------+----+----------------------------+-------+\nonly showing top 5 rows\n\n"
    }
   ],
   "source": [
    "wine_data.show(5, False)"
   ]
  }
 ],
 "metadata": {
  "language_info": {
   "name": "python",
   "codemirror_mode": {
    "name": "ipython",
    "version": 3
   },
   "version": "3.6.7-final"
  },
  "orig_nbformat": 2,
  "file_extension": ".py",
  "mimetype": "text/x-python",
  "name": "python",
  "npconvert_exporter": "python",
  "pygments_lexer": "ipython3",
  "version": 3,
  "kernelspec": {
   "name": "python3",
   "display_name": "Python 3"
  }
 },
 "nbformat": 4,
 "nbformat_minor": 2
}
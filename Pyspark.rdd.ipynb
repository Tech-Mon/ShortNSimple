{
 "cells": [
  {
   "cell_type": "markdown",
   "metadata": {},
   "source": [
    "# Get Frequency of Words using RDD"
   ]
  },
  {
   "cell_type": "code",
   "execution_count": 1,
   "metadata": {},
   "outputs": [],
   "source": [
    "from operator import add "
   ]
  },
  {
   "cell_type": "code",
   "execution_count": 3,
   "metadata": {},
   "outputs": [
    {
     "output_type": "execute_result",
     "data": {
      "text/plain": [
       "<pyspark.sql.session.SparkSession at 0x7f5d6d66c2b0>"
      ],
      "text/html": "\n            <div>\n                <p><b>SparkSession - in-memory</b></p>\n                \n        <div>\n            <p><b>SparkContext</b></p>\n\n            <p><a href=\"http://192.168.1.8:4040\">Spark UI</a></p>\n\n            <dl>\n              <dt>Version</dt>\n                <dd><code>v3.0.1</code></dd>\n              <dt>Master</dt>\n                <dd><code>local[*]</code></dd>\n              <dt>AppName</dt>\n                <dd><code>ShortNSimple</code></dd>\n            </dl>\n        </div>\n        \n            </div>\n        "
     },
     "metadata": {},
     "execution_count": 3
    }
   ],
   "source": [
    "# initialize spark session\n",
    "\n",
    "from pyspark.sql import SparkSession\n",
    "\n",
    "spark = SparkSession.builder \\\n",
    "            .master(\"local[*]\") \\\n",
    "            .appName(\"ShortNSimple\") \\\n",
    "            .getOrCreate()\n",
    "\n",
    "sc = spark.sparkContext\n",
    "\n",
    "spark"
   ]
  },
  {
   "cell_type": "markdown",
   "metadata": {},
   "source": [
    "Data Source: https://archive.ics.uci.edu/ml/datasets/Sentiment+Labelled+Sentences"
   ]
  },
  {
   "cell_type": "markdown",
   "metadata": {},
   "source": [
    "# Load the dataset"
   ]
  },
  {
   "cell_type": "code",
   "execution_count": 4,
   "metadata": {},
   "outputs": [],
   "source": [
    "data_path = 'file:////mnt/e/Work\\ \\[2019-05-26\\]/Tutorials/Short\\ N\\ Simple/datasets/amazon_cells_labelled.txt'"
   ]
  },
  {
   "cell_type": "code",
   "execution_count": 6,
   "metadata": {},
   "outputs": [
    {
     "output_type": "execute_result",
     "data": {
      "text/plain": [
       "['So there is no way for me to plug it in here in the US unless I go by a converter.\\t0',\n",
       " 'Good case, Excellent value.\\t1']"
      ]
     },
     "metadata": {},
     "execution_count": 6
    }
   ],
   "source": [
    "reviews_data = sc.textFile(data_path)\n",
    "reviews_data.take(2)"
   ]
  },
  {
   "cell_type": "code",
   "execution_count": 7,
   "metadata": {},
   "outputs": [
    {
     "output_type": "execute_result",
     "data": {
      "text/plain": [
       "['So there is no way for me to plug it in here in the US unless I go by a converter.',\n",
       " '0']"
      ]
     },
     "metadata": {},
     "execution_count": 7
    }
   ],
   "source": [
    "'So there is no way for me to plug it in here in the US unless I go by a converter.\\t0'.split('\\t')"
   ]
  },
  {
   "cell_type": "markdown",
   "metadata": {},
   "source": [
    "# Split each record using map"
   ]
  },
  {
   "cell_type": "code",
   "execution_count": 8,
   "metadata": {},
   "outputs": [],
   "source": [
    "def preprocessor(line):\n",
    "    sent, label = line.split('\\t')\n",
    "    return (sent, label)"
   ]
  },
  {
   "cell_type": "code",
   "execution_count": 9,
   "metadata": {},
   "outputs": [
    {
     "output_type": "execute_result",
     "data": {
      "text/plain": [
       "[('So there is no way for me to plug it in here in the US unless I go by a converter.',\n",
       "  '0'),\n",
       " ('Good case, Excellent value.', '1'),\n",
       " ('Great for the jawbone.', '1'),\n",
       " ('Tied to charger for conversations lasting more than 45 minutes.MAJOR PROBLEMS!!',\n",
       "  '0'),\n",
       " ('The mic is great.', '1')]"
      ]
     },
     "metadata": {},
     "execution_count": 9
    }
   ],
   "source": [
    "sent_label_data = reviews_data.map(preprocessor)\n",
    "sent_label_data.take(5)"
   ]
  },
  {
   "cell_type": "code",
   "execution_count": 10,
   "metadata": {},
   "outputs": [
    {
     "output_type": "execute_result",
     "data": {
      "text/plain": [
       "[['So there is no way for me to plug it in here in the US unless I go by a converter.',\n",
       "  '0'],\n",
       " ['Good case, Excellent value.', '1'],\n",
       " ['Great for the jawbone.', '1'],\n",
       " ['Tied to charger for conversations lasting more than 45 minutes.MAJOR PROBLEMS!!',\n",
       "  '0'],\n",
       " ['The mic is great.', '1']]"
      ]
     },
     "metadata": {},
     "execution_count": 10
    }
   ],
   "source": [
    "sent_label_data2 = reviews_data.map(lambda line: line.split('\\t'))\n",
    "sent_label_data2.take(5)"
   ]
  },
  {
   "cell_type": "markdown",
   "metadata": {},
   "source": [
    "# flatten the records using flatMap"
   ]
  },
  {
   "cell_type": "code",
   "execution_count": 11,
   "metadata": {},
   "outputs": [
    {
     "output_type": "stream",
     "name": "stdout",
     "text": [
      "[['So', 'there', 'is', 'no', 'way', 'for', 'me', 'to', 'plug', 'it', 'in', 'here', 'in', 'the', 'US', 'unless', 'I', 'go', 'by', 'a', 'converter.'], ['Good', 'case,', 'Excellent', 'value.'], ['Great', 'for', 'the', 'jawbone.'], ['Tied', 'to', 'charger', 'for', 'conversations', 'lasting', 'more', 'than', '45', 'minutes.MAJOR', 'PROBLEMS!!'], ['The', 'mic', 'is', 'great.'], ['I', 'have', 'to', 'jiggle', 'the', 'plug', 'to', 'get', 'it', 'to', 'line', 'up', 'right', 'to', 'get', 'decent', 'volume.'], ['If', 'you', 'have', 'several', 'dozen', 'or', 'several', 'hundred', 'contacts,', 'then', 'imagine', 'the', 'fun', 'of', 'sending', 'each', 'of', 'them', 'one', 'by', 'one.'], ['If', 'you', 'are', 'Razr', 'owner...you', 'must', 'have', 'this!'], ['Needless', 'to', 'say,', 'I', 'wasted', 'my', 'money.'], ['What', 'a', 'waste', 'of', 'money', 'and', 'time!.']]\n"
     ]
    }
   ],
   "source": [
    "bag_of_words = sent_label_data2.map(lambda row: row[0].split(' '))\n",
    "print(bag_of_words.take(10))"
   ]
  },
  {
   "cell_type": "code",
   "execution_count": 12,
   "metadata": {},
   "outputs": [
    {
     "output_type": "stream",
     "name": "stdout",
     "text": [
      "['So', 'there', 'is', 'no', 'way', 'for', 'me', 'to', 'plug', 'it', 'in', 'here', 'in', 'the', 'US', 'unless', 'I', 'go', 'by', 'a', 'converter.', 'Good', 'case,', 'Excellent', 'value.', 'Great', 'for', 'the', 'jawbone.', 'Tied', 'to', 'charger', 'for', 'conversations', 'lasting', 'more', 'than', '45', 'minutes.MAJOR', 'PROBLEMS!!', 'The', 'mic', 'is', 'great.', 'I', 'have', 'to', 'jiggle', 'the', 'plug']\n"
     ]
    }
   ],
   "source": [
    "bag_of_words = bag_of_words.flatMap(lambda row: row)\n",
    "print(bag_of_words.take(50))"
   ]
  },
  {
   "cell_type": "code",
   "execution_count": 13,
   "metadata": {},
   "outputs": [
    {
     "output_type": "stream",
     "name": "stdout",
     "text": [
      "['So', 'there', 'is', 'no', 'way', 'for', 'me', 'to', 'plug', 'it', 'in', 'here', 'in', 'the', 'US', 'unless', 'I', 'go', 'by', 'a', 'converter.', 'Good', 'case,', 'Excellent', 'value.', 'Great', 'for', 'the', 'jawbone.', 'Tied', 'to', 'charger', 'for', 'conversations', 'lasting', 'more', 'than', '45', 'minutes.MAJOR', 'PROBLEMS!!', 'The', 'mic', 'is', 'great.', 'I', 'have', 'to', 'jiggle', 'the', 'plug']\n"
     ]
    }
   ],
   "source": [
    "bag_of_words2 = sent_label_data2.flatMap(lambda row: row[0].split(' '))\n",
    "print(bag_of_words2.take(50))"
   ]
  },
  {
   "cell_type": "code",
   "execution_count": 17,
   "metadata": {},
   "outputs": [
    {
     "output_type": "stream",
     "name": "stdout",
     "text": [
      "dict_keys(['a', 'b'])\ndict_values([1, 3])\n"
     ]
    }
   ],
   "source": [
    "d = {\n",
    "    'a': 1,\n",
    "    'b': 3\n",
    "}\n",
    "print(d.keys())\n",
    "print(d.values())"
   ]
  },
  {
   "cell_type": "markdown",
   "metadata": {},
   "source": [
    "# Group by words and get counts using reduceByKey"
   ]
  },
  {
   "cell_type": "code",
   "execution_count": 15,
   "metadata": {},
   "outputs": [
    {
     "output_type": "stream",
     "name": "stdout",
     "text": [
      "[('So', 1), ('there', 1), ('is', 1), ('no', 1), ('way', 1), ('for', 1), ('me', 1), ('to', 1), ('plug', 1), ('it', 1), ('in', 1), ('here', 1), ('in', 1), ('the', 1), ('US', 1), ('unless', 1), ('I', 1), ('go', 1), ('by', 1), ('a', 1), ('converter.', 1), ('Good', 1), ('case,', 1), ('Excellent', 1), ('value.', 1), ('Great', 1), ('for', 1), ('the', 1), ('jawbone.', 1), ('Tied', 1), ('to', 1), ('charger', 1), ('for', 1), ('conversations', 1), ('lasting', 1), ('more', 1), ('than', 1), ('45', 1), ('minutes.MAJOR', 1), ('PROBLEMS!!', 1), ('The', 1), ('mic', 1), ('is', 1), ('great.', 1), ('I', 1), ('have', 1), ('to', 1), ('jiggle', 1), ('the', 1), ('plug', 1)]\n"
     ]
    }
   ],
   "source": [
    "bag_of_words_w_freq = bag_of_words2.map(lambda word: (word, 1))\n",
    "print(bag_of_words_w_freq.take(50))"
   ]
  },
  {
   "cell_type": "code",
   "execution_count": 20,
   "metadata": {},
   "outputs": [
    {
     "output_type": "stream",
     "name": "stdout",
     "text": [
      "[('there', 11), ('is', 238), ('no', 19), ('way', 7), ('in', 84), ('go', 6), ('converter.', 1), ('Good', 13), ('case,', 4), ('value.', 3), ('Great', 30), ('jawbone.', 1), ('Tied', 1), ('lasting', 2), ('more', 13), ('than', 27), ('45', 1), ('minutes.MAJOR', 1), ('PROBLEMS!!', 1), ('The', 97), ('have', 72), ('line', 2), ('right', 8), ('decent', 2), ('several', 7), ('dozen', 1), ('contacts,', 1), ('of', 117), ('them', 9), ('are', 40), ('must', 4), ('this!', 1), ('wasted', 2), ('money.', 8), ('What', 6), ('money', 7), ('time!.', 1), ('And', 3), ('sound', 32), ('quality', 32), ('was', 87), ('very', 80), ('impressed', 8), ('when', 20), ('battery', 27), ('battery.', 3), ('two', 12), ('seperated', 1), ('5+', 1), ('started', 5)]\n"
     ]
    }
   ],
   "source": [
    "word_freq = bag_of_words_w_freq.reduceByKey(add)\n",
    "print(word_freq.take(50))"
   ]
  },
  {
   "source": [
    "# Sort by frequency"
   ],
   "cell_type": "markdown",
   "metadata": {}
  },
  {
   "cell_type": "code",
   "execution_count": 27,
   "metadata": {},
   "outputs": [
    {
     "output_type": "stream",
     "name": "stdout",
     "text": [
      "[('zero', 1), ('z500a', 1), ('your', 32), ('you.', 1), ('you,', 1), (\"you'd\", 1), ('you!', 2), ('you', 52), ('yet.', 1), ('yet', 1), ('yell', 1), ('years.Great', 1), ('years,', 1), ('years', 7), ('year.', 1), ('year,', 1), ('year', 5), ('wrong.First', 1), ('wrong', 2), (\"wouldn't\", 2), ('would.', 2), ('would', 30), ('worthwhile', 1), ('worthless.', 1), ('worthless,', 1), ('worthless', 1), ('worth', 3), ('worst', 8), ('worn-out', 1), ('works..', 1), ('works.', 1), ('works,', 1), ('works!)', 1), ('works', 28), ('working.', 1), ('working!!!!!!!!!', 1), ('working', 9), ('worked.', 2), ('worked', 15), ('work.', 7), ('work,', 2), ('work', 23), ('word', 1), ('wooden', 1), ('wood!).', 1), ('wont', 1), ('wonderfully', 1), ('wonder', 1), (\"won't.\", 1), (\"won't\", 1), ('wobbly', 1), ('without', 8), ('within', 6), ('with.', 3), ('with,', 1), ('with', 106), ('wit', 1), ('wish', 1), ('wise', 1), ('wireless', 2), ('wired', 2), (\"wire's\", 1), ('wiping', 1), ('winner', 1), ('window', 1), ('wind-resistant.', 1), ('wind,', 1), ('will,', 1), ('will', 13), ('wild!.', 1), (\"wife's\", 2), ('wife', 3), ('wi-fi', 1), ('whose', 1), ('whole', 2), ('who', 2), ('white,', 1), ('whistles', 1), ('whine', 1), ('while.', 1), ('while', 12), ('which', 14), ('whether', 1), ('where', 5), ('when', 20), ('whatsoever.', 2), ('whatever', 1), ('what', 9), ('were', 3), ('went', 7), ('well.Well,', 1), ('well..', 1), ('well.', 15), ('well-designed', 1), ('well--it', 1), ('well,', 2), ('well', 18), ('weird', 1), ('weight,', 1), ('weeks.', 1)]\n"
     ]
    }
   ],
   "source": [
    "word_freq_ordered = word_freq.sortByKey(ascending=False)\n",
    "print(word_freq_ordered.take(100))"
   ]
  },
  {
   "cell_type": "code",
   "execution_count": 30,
   "metadata": {},
   "outputs": [
    {
     "output_type": "stream",
     "name": "stdout",
     "text": [
      "[('zero', 1), ('z500a', 1), ('your', 32), ('you.', 1), ('you,', 1), (\"you'd\", 1), ('you!', 2), ('you', 52), ('yet.', 1), ('yet', 1), ('yell', 1), ('years.Great', 1), ('years,', 1), ('years', 7), ('year.', 1), ('year,', 1), ('year', 5), ('wrong.First', 1), ('wrong', 2), (\"wouldn't\", 2), ('would.', 2), ('would', 30), ('worthwhile', 1), ('worthless.', 1), ('worthless,', 1), ('worthless', 1), ('worth', 3), ('worst', 8), ('worn-out', 1), ('works..', 1), ('works.', 1), ('works,', 1), ('works!)', 1), ('works', 28), ('working.', 1), ('working!!!!!!!!!', 1), ('working', 9), ('worked.', 2), ('worked', 15), ('work.', 7), ('work,', 2), ('work', 23), ('word', 1), ('wooden', 1), ('wood!).', 1), ('wont', 1), ('wonderfully', 1), ('wonder', 1), (\"won't.\", 1), (\"won't\", 1), ('wobbly', 1), ('without', 8), ('within', 6), ('with.', 3), ('with,', 1), ('with', 106), ('wit', 1), ('wish', 1), ('wise', 1), ('wireless', 2), ('wired', 2), (\"wire's\", 1), ('wiping', 1), ('winner', 1), ('window', 1), ('wind-resistant.', 1), ('wind,', 1), ('will,', 1), ('will', 13), ('wild!.', 1), (\"wife's\", 2), ('wife', 3), ('wi-fi', 1), ('whose', 1), ('whole', 2), ('who', 2), ('white,', 1), ('whistles', 1), ('whine', 1), ('while.', 1), ('while', 12), ('which', 14), ('whether', 1), ('where', 5), ('when', 20), ('whatsoever.', 2), ('whatever', 1), ('what', 9), ('were', 3), ('went', 7), ('well.Well,', 1), ('well..', 1), ('well.', 15), ('well-designed', 1), ('well--it', 1), ('well,', 2), ('well', 18), ('weird', 1), ('weight,', 1), ('weeks.', 1)]\n"
     ]
    }
   ],
   "source": [
    "word_freq_ordered = word_freq.sortBy(lambda row: row[0], ascending=False)\n",
    "print(word_freq_ordered.take(100))"
   ]
  },
  {
   "cell_type": "code",
   "execution_count": 28,
   "metadata": {},
   "outputs": [
    {
     "output_type": "stream",
     "name": "stdout",
     "text": [
      "[('the', 414), ('and', 307), ('I', 303), ('is', 238), ('a', 207), ('to', 195), ('it', 176), ('this', 143), ('my', 130), ('of', 117), ('for', 114), ('phone', 110), ('with', 106), ('The', 97), ('not', 91), ('was', 87), ('on', 86), ('in', 84), ('very', 80), ('have', 72), ('that', 71), ('It', 61), ('good', 53), ('This', 53), ('you', 52), ('had', 43), ('as', 42), ('but', 41), ('are', 40), ('has', 33), ('great', 33), ('sound', 32), ('quality', 32), ('one', 32), ('from', 32), ('your', 32), ('so', 32), ('it.', 31), ('Great', 30), ('would', 30), ('like', 30), ('headset', 29), ('phone.', 28), (\"I've\", 28), ('works', 28), ('than', 27), ('battery', 27), ('use', 27), ('all', 27), ('be', 25), ('recommend', 24), ('product', 24), ('-', 24), ('at', 23), ('work', 23), ('or', 23), ('really', 22), ('get', 22), ('up', 21), ('when', 20), ('out', 20), ('only', 20), ('am', 20), ('product.', 20), (\"I'm\", 20), ('no', 19), ('ear', 19), ('me', 19), ('any', 19), ('2', 19), ('an', 18), ('can', 18), ('well', 18), ('about', 18), ('Very', 17), ('just', 17), ('even', 17), ('after', 17), ('great.', 17), ('because', 17), (\"don't\", 17), ('if', 17), ('bought', 16), ('love', 16), ('does', 16), ('new', 15), ('best', 15), ('Not', 15), ('worked', 15), ('Works', 15), ('could', 15), ('well.', 15), ('been', 15), ('better', 15), ('also', 15), ('these', 14), ('charger', 14), ('then', 14), ('car', 14), ('time', 14)]\n"
     ]
    }
   ],
   "source": [
    "word_freq_ordered = word_freq.sortBy(lambda row: row[1], ascending=False)\n",
    "print(word_freq_ordered.take(100))"
   ]
  },
  {
   "cell_type": "code",
   "execution_count": 29,
   "metadata": {},
   "outputs": [
    {
     "output_type": "stream",
     "name": "stdout",
     "text": [
      "[('converter.', 1), ('jawbone.', 1), ('Tied', 1), ('45', 1), ('minutes.MAJOR', 1), ('PROBLEMS!!', 1), ('dozen', 1), ('contacts,', 1), ('this!', 1), ('time!.', 1), ('seperated', 1), ('5+', 1), ('odd,', 1), ('EVERYONE', 1), ('BE', 1), ('Good!.', 1), ('clicks', 1), ('wonder', 1), ('directions,', 1), ('loved', 1), ('misleading.', 1), ('yet', 1), ('Pocket', 1), ('mobile', 1), ('couldnt', 1), ('ideal', 1), ('whose', 1), ('contract', 1), ('AC', 1), ('book', 1), ('phone.Battery', 1), ('680.', 1), ('worthless', 1), ('garbage', 1), ('mind', 1), ('ARGUING', 1), ('REGARDING', 1), ('DROPPED', 1), ('WE', 1), ('RETURNED', 1), ('TWO', 1), ('DAYS.', 1), ('Disappointed', 1), ('bulky.', 1), ('real-world', 1), ('useful', 1), ('machine', 1), ('i.e.', 1), ('DISAPPOINTED.', 1), ('regarding', 1), ('Essentially', 1), ('faceplates', 1), ('elegant', 1), ('seriously.', 1), ('clearly.', 1), ('drawback', 1), ('activated', 1), ('suddenly', 1), ('iPODs', 1), ('fairly', 1), ('hearing', 1), ('person', 1), ('advertised', 1), ('handy', 1), ('.', 1), ('working!!!!!!!!!', 1), ('packaged,', 1), ('Boy', 1), ('cheaper!', 1), ('loads', 1), ('super!', 1), ('does,', 1), ('Made', 1), ('sturdy.', 1), ('money...', 1), ('Will', 1), ('again!', 1), ('(for', 1), ('listener)', 1), ('Integrated', 1), ('seamlessly', 1), ('RAZR', 1), ('Buyer', 1), ('toilet.', 1), ('supposedly', 1), ('375', 1), ('apparently', 1), (\"That's\", 1), ('case).', 1), ('Jabra350', 1), ('rated', 1), ('1.3', 1), ('renders', 1), ('expectations', 1), ('resolution.', 1), ('!2.', 1), ('geeky', 1), ('toast', 1), ('embedded', 1), ('sleek', 1)]\n"
     ]
    }
   ],
   "source": [
    "word_freq_ordered = word_freq.sortBy(lambda row: row[1], ascending=True)\n",
    "print(word_freq_ordered.take(100))"
   ]
  }
 ],
 "metadata": {
  "kernelspec": {
   "display_name": "Python 3",
   "language": "python",
   "name": "python3"
  },
  "language_info": {
   "codemirror_mode": {
    "name": "ipython",
    "version": 3
   },
   "file_extension": ".py",
   "mimetype": "text/x-python",
   "name": "python",
   "nbconvert_exporter": "python",
   "pygments_lexer": "ipython3",
   "version": "3.8.3-final"
  }
 },
 "nbformat": 4,
 "nbformat_minor": 2
}